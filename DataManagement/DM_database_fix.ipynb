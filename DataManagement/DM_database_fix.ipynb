{
  "nbformat": 4,
  "nbformat_minor": 0,
  "metadata": {
    "colab": {
      "provenance": [],
      "include_colab_link": true
    },
    "kernelspec": {
      "name": "python3",
      "display_name": "Python 3"
    },
    "language_info": {
      "name": "python"
    }
  },
  "cells": [
    {
      "cell_type": "markdown",
      "metadata": {
        "id": "view-in-github",
        "colab_type": "text"
      },
      "source": [
        "<a href=\"https://colab.research.google.com/github/eastrong23/Works/blob/main/DM_database_fix.ipynb\" target=\"_parent\"><img src=\"https://colab.research.google.com/assets/colab-badge.svg\" alt=\"Open In Colab\"/></a>"
      ]
    },
    {
      "cell_type": "code",
      "source": [
        "import pandas as pd\n",
        "import sqlite3\n",
        "from google.colab import files"
      ],
      "metadata": {
        "id": "deGjCz-t_0fC"
      },
      "execution_count": null,
      "outputs": []
    },
    {
      "cell_type": "markdown",
      "source": [
        "## Loading the Data"
      ],
      "metadata": {
        "id": "08AbpfGbWBKJ"
      }
    },
    {
      "cell_type": "code",
      "execution_count": null,
      "metadata": {
        "colab": {
          "base_uri": "https://localhost:8080/"
        },
        "id": "kJMh-YyA_aCE",
        "outputId": "18cce421-0201-49ac-acec-cf91823b1208"
      },
      "outputs": [
        {
          "output_type": "stream",
          "name": "stdout",
          "text": [
            "Connected to static_retail.db\n"
          ]
        }
      ],
      "source": [
        "# --------------------------------------\n",
        "# STEP 1: Connect to a new SQLite database\n",
        "# --------------------------------------\n",
        "conn = sqlite3.connect(\"static_retail.db\")\n",
        "cursor = conn.cursor()\n",
        "print(\"Connected to static_retail.db\")\n",
        "\n",
        "# --------------------------------------\n",
        "# STEP 2: Load CSV files into SQLite tables\n",
        "# (Assuming the CSV files are already uploaded to Colab)\n",
        "# --------------------------------------\n",
        "customers_df   = pd.read_csv(\"Customers.csv\")\n",
        "products_df    = pd.read_csv(\"Products.csv\")\n",
        "salesreps_df   = pd.read_csv(\"SalesReps.csv\")\n",
        "campaigns_df   = pd.read_csv(\"Campaigns.csv\")\n",
        "orders_df      = pd.read_csv(\"Orders.csv\")\n",
        "order_items_df = pd.read_csv(\"Order_Items.csv\")\n",
        "\n"
      ]
    },
    {
      "cell_type": "code",
      "source": [
        "conn = sqlite3.connect(\"static_retail.db\")\n",
        "cursor = conn.cursor()\n",
        "\n",
        "print(\"Connected to static_retail.db\")\n",
        "cursor.execute(\"\"\"\n",
        "Create table Customers (\n",
        "    customer_id INTEGER PRIMARY KEY AUTOINCREMENT,\n",
        "    name VARCHAR(50),\n",
        "    email VARCHAR(100),\n",
        "    address VARCHAR(100),\n",
        "    registration_date TIMESTAMP\n",
        ");\n",
        "\"\"\")\n",
        "cursor.execute(\"\"\"\n",
        "Create table Products (\n",
        "    product_id INTEGER PRIMARY KEY AUTOINCREMENT,\n",
        "    product_name VARCHAR(50),\n",
        "    category VARCHAR(50),\n",
        "    price DECIMAL(5,1)\n",
        ");\n",
        "\"\"\")\n",
        "cursor.execute(\"\"\"\n",
        "Create table SalesReps (\n",
        "    sales_rep_id INTEGER PRIMARY KEY AUTOINCREMENT,\n",
        "    name VARCHAR(50),\n",
        "    region VARCHAR(50)\n",
        ");\n",
        "\"\"\")\n",
        "cursor.execute(\"\"\"\n",
        "Create table Campaigns (\n",
        "    campaign_id INTEGER PRIMARY KEY AUTOINCREMENT,\n",
        "    campaign_name VARCHAR(50),\n",
        "    start_date TIMESTAMP,\n",
        "    end_date TIMESTAMP,\n",
        "    budget INT\n",
        ");\n",
        "\"\"\")\n",
        "cursor.execute(\"\"\"\n",
        "Create table Orders (\n",
        "    order_id INTEGER PRIMARY KEY AUTOINCREMENT,\n",
        "    customer_id INT,\n",
        "    sales_rep_id INT,\n",
        "    campaign_id INT,\n",
        "    order_date TIMESTAMP,\n",
        "    total_amount DECIMAL(5,1),\n",
        "    FOREIGN KEY (customer_id) REFERENCES Customers(customer_id),\n",
        "    FOREIGN KEY (sales_rep_id) REFERENCES SalesReps(sales_rep_id),\n",
        "    FOREIGN KEY (campaign_id) REFERENCES Campaigns(campaign_id)\n",
        ");\n",
        "\"\"\")\n",
        "cursor.execute(\"\"\"\n",
        "CREATE table Order_Items(\n",
        "  order_id INT,\n",
        "  product_id INT,\n",
        "  quantity INT,\n",
        "  item_total DECIMAL(5,1),\n",
        "  FOREIGN KEY (order_id) REFERENCES Orders(order_id),\n",
        "  FOREIGN KEY (product_id) REFERENCES Products(product_id)\n",
        ");\"\"\")\n",
        "\n",
        "conn.commit()\n",
        "print(\"Table Constructed\")\n",
        "# Write DataFrames to SQLite tables (replace any existing table)\n",
        "customers_df.to_sql(\"Customers\", conn, if_exists=\"append\", index=False)\n",
        "products_df.to_sql(\"Products\", conn, if_exists=\"append\", index=False)\n",
        "salesreps_df.to_sql(\"SalesReps\", conn, if_exists=\"append\", index=False)\n",
        "campaigns_df.to_sql(\"Campaigns\", conn, if_exists=\"append\", index=False)\n",
        "orders_df.to_sql(\"Orders\", conn, if_exists=\"append\", index=False)\n",
        "order_items_df.to_sql(\"Order_Items\", conn, if_exists=\"append\", index=False)\n",
        "\n",
        "print(\"CSV files loaded into SQLite tables.\\n\")"
      ],
      "metadata": {
        "colab": {
          "base_uri": "https://localhost:8080/"
        },
        "id": "5zWHqoSTkjXg",
        "outputId": "1c837254-b497-43f9-9a64-8c4b0b383ee2"
      },
      "execution_count": null,
      "outputs": [
        {
          "output_type": "stream",
          "name": "stdout",
          "text": [
            "Connected to static_retail.db\n",
            "Table Constructed\n",
            "CSV files loaded into SQLite tables.\n",
            "\n"
          ]
        }
      ]
    },
    {
      "cell_type": "code",
      "source": [
        "cursor.execute(\"SELECT name FROM sqlite_master WHERE type='table';\")\n",
        "tables = cursor.fetchall()\n",
        "\n",
        "for table_name in tables:\n",
        "    print(f\"Table: {table_name[0]}\")\n",
        "    cursor.execute(f\"PRAGMA table_info({table_name[0]});\")\n",
        "    columns = cursor.fetchall()\n",
        "    for col in columns:\n",
        "        print(f\"  Column: {col[1]}, Type: {col[2]}, NotNull: {col[3]}, DefaultVal: {col[4]}, PrimaryKey: {col[5]}\")\n",
        "    print(\"-\" * 20)"
      ],
      "metadata": {
        "colab": {
          "base_uri": "https://localhost:8080/"
        },
        "id": "PNCsGQ3ZiFpQ",
        "outputId": "7b8eb638-1e8d-4d75-c713-faf6d8dbd241"
      },
      "execution_count": null,
      "outputs": [
        {
          "output_type": "stream",
          "name": "stdout",
          "text": [
            "Table: Customers\n",
            "  Column: customer_id, Type: INTEGER, NotNull: 0, DefaultVal: None, PrimaryKey: 1\n",
            "  Column: name, Type: VARCHAR(50), NotNull: 0, DefaultVal: None, PrimaryKey: 0\n",
            "  Column: email, Type: VARCHAR(100), NotNull: 0, DefaultVal: None, PrimaryKey: 0\n",
            "  Column: address, Type: VARCHAR(100), NotNull: 0, DefaultVal: None, PrimaryKey: 0\n",
            "  Column: registration_date, Type: TIMESTAMP, NotNull: 0, DefaultVal: None, PrimaryKey: 0\n",
            "--------------------\n",
            "Table: sqlite_sequence\n",
            "  Column: name, Type: , NotNull: 0, DefaultVal: None, PrimaryKey: 0\n",
            "  Column: seq, Type: , NotNull: 0, DefaultVal: None, PrimaryKey: 0\n",
            "--------------------\n",
            "Table: Products\n",
            "  Column: product_id, Type: INTEGER, NotNull: 0, DefaultVal: None, PrimaryKey: 1\n",
            "  Column: product_name, Type: VARCHAR(50), NotNull: 0, DefaultVal: None, PrimaryKey: 0\n",
            "  Column: category, Type: VARCHAR(50), NotNull: 0, DefaultVal: None, PrimaryKey: 0\n",
            "  Column: price, Type: DECIMAL(5,1), NotNull: 0, DefaultVal: None, PrimaryKey: 0\n",
            "--------------------\n",
            "Table: SalesReps\n",
            "  Column: sales_rep_id, Type: INTEGER, NotNull: 0, DefaultVal: None, PrimaryKey: 1\n",
            "  Column: name, Type: VARCHAR(50), NotNull: 0, DefaultVal: None, PrimaryKey: 0\n",
            "  Column: region, Type: VARCHAR(50), NotNull: 0, DefaultVal: None, PrimaryKey: 0\n",
            "--------------------\n",
            "Table: Campaigns\n",
            "  Column: campaign_id, Type: INTEGER, NotNull: 0, DefaultVal: None, PrimaryKey: 1\n",
            "  Column: campaign_name, Type: VARCHAR(50), NotNull: 0, DefaultVal: None, PrimaryKey: 0\n",
            "  Column: start_date, Type: TIMESTAMP, NotNull: 0, DefaultVal: None, PrimaryKey: 0\n",
            "  Column: end_date, Type: TIMESTAMP, NotNull: 0, DefaultVal: None, PrimaryKey: 0\n",
            "  Column: budget, Type: INT, NotNull: 0, DefaultVal: None, PrimaryKey: 0\n",
            "--------------------\n",
            "Table: Orders\n",
            "  Column: order_id, Type: INTEGER, NotNull: 0, DefaultVal: None, PrimaryKey: 1\n",
            "  Column: customer_id, Type: INT, NotNull: 0, DefaultVal: None, PrimaryKey: 0\n",
            "  Column: sales_rep_id, Type: INT, NotNull: 0, DefaultVal: None, PrimaryKey: 0\n",
            "  Column: campaign_id, Type: INT, NotNull: 0, DefaultVal: None, PrimaryKey: 0\n",
            "  Column: order_date, Type: TIMESTAMP, NotNull: 0, DefaultVal: None, PrimaryKey: 0\n",
            "  Column: total_amount, Type: DECIMAL(5,1), NotNull: 0, DefaultVal: None, PrimaryKey: 0\n",
            "--------------------\n",
            "Table: Order_Items\n",
            "  Column: order_id, Type: INT, NotNull: 0, DefaultVal: None, PrimaryKey: 0\n",
            "  Column: product_id, Type: INT, NotNull: 0, DefaultVal: None, PrimaryKey: 0\n",
            "  Column: quantity, Type: INT, NotNull: 0, DefaultVal: None, PrimaryKey: 0\n",
            "  Column: item_total, Type: DECIMAL(5,1), NotNull: 0, DefaultVal: None, PrimaryKey: 0\n",
            "--------------------\n"
          ]
        }
      ]
    },
    {
      "cell_type": "code",
      "source": [
        "pd.read_sql_query(\"SELECT * FROM Order_Items LIMIT 5;\", conn)"
      ],
      "metadata": {
        "colab": {
          "base_uri": "https://localhost:8080/",
          "height": 206
        },
        "id": "jVNwaX5ppRqt",
        "outputId": "0ec58c08-11be-4e29-ef97-eeec123b52f0"
      },
      "execution_count": null,
      "outputs": [
        {
          "output_type": "execute_result",
          "data": {
            "text/plain": [
              "   order_id  product_id  quantity  item_total\n",
              "0         1          16         4       184.2\n",
              "1         2          36         4        47.6\n",
              "2         3          26         3       736.0\n",
              "3         3          15         1       868.8\n",
              "4         3          44         1       132.2"
            ],
            "text/html": [
              "\n",
              "  <div id=\"df-436b777f-4b52-4300-84f3-c30f0a4ed0c5\" class=\"colab-df-container\">\n",
              "    <div>\n",
              "<style scoped>\n",
              "    .dataframe tbody tr th:only-of-type {\n",
              "        vertical-align: middle;\n",
              "    }\n",
              "\n",
              "    .dataframe tbody tr th {\n",
              "        vertical-align: top;\n",
              "    }\n",
              "\n",
              "    .dataframe thead th {\n",
              "        text-align: right;\n",
              "    }\n",
              "</style>\n",
              "<table border=\"1\" class=\"dataframe\">\n",
              "  <thead>\n",
              "    <tr style=\"text-align: right;\">\n",
              "      <th></th>\n",
              "      <th>order_id</th>\n",
              "      <th>product_id</th>\n",
              "      <th>quantity</th>\n",
              "      <th>item_total</th>\n",
              "    </tr>\n",
              "  </thead>\n",
              "  <tbody>\n",
              "    <tr>\n",
              "      <th>0</th>\n",
              "      <td>1</td>\n",
              "      <td>16</td>\n",
              "      <td>4</td>\n",
              "      <td>184.2</td>\n",
              "    </tr>\n",
              "    <tr>\n",
              "      <th>1</th>\n",
              "      <td>2</td>\n",
              "      <td>36</td>\n",
              "      <td>4</td>\n",
              "      <td>47.6</td>\n",
              "    </tr>\n",
              "    <tr>\n",
              "      <th>2</th>\n",
              "      <td>3</td>\n",
              "      <td>26</td>\n",
              "      <td>3</td>\n",
              "      <td>736.0</td>\n",
              "    </tr>\n",
              "    <tr>\n",
              "      <th>3</th>\n",
              "      <td>3</td>\n",
              "      <td>15</td>\n",
              "      <td>1</td>\n",
              "      <td>868.8</td>\n",
              "    </tr>\n",
              "    <tr>\n",
              "      <th>4</th>\n",
              "      <td>3</td>\n",
              "      <td>44</td>\n",
              "      <td>1</td>\n",
              "      <td>132.2</td>\n",
              "    </tr>\n",
              "  </tbody>\n",
              "</table>\n",
              "</div>\n",
              "    <div class=\"colab-df-buttons\">\n",
              "\n",
              "  <div class=\"colab-df-container\">\n",
              "    <button class=\"colab-df-convert\" onclick=\"convertToInteractive('df-436b777f-4b52-4300-84f3-c30f0a4ed0c5')\"\n",
              "            title=\"Convert this dataframe to an interactive table.\"\n",
              "            style=\"display:none;\">\n",
              "\n",
              "  <svg xmlns=\"http://www.w3.org/2000/svg\" height=\"24px\" viewBox=\"0 -960 960 960\">\n",
              "    <path d=\"M120-120v-720h720v720H120Zm60-500h600v-160H180v160Zm220 220h160v-160H400v160Zm0 220h160v-160H400v160ZM180-400h160v-160H180v160Zm440 0h160v-160H620v160ZM180-180h160v-160H180v160Zm440 0h160v-160H620v160Z\"/>\n",
              "  </svg>\n",
              "    </button>\n",
              "\n",
              "  <style>\n",
              "    .colab-df-container {\n",
              "      display:flex;\n",
              "      gap: 12px;\n",
              "    }\n",
              "\n",
              "    .colab-df-convert {\n",
              "      background-color: #E8F0FE;\n",
              "      border: none;\n",
              "      border-radius: 50%;\n",
              "      cursor: pointer;\n",
              "      display: none;\n",
              "      fill: #1967D2;\n",
              "      height: 32px;\n",
              "      padding: 0 0 0 0;\n",
              "      width: 32px;\n",
              "    }\n",
              "\n",
              "    .colab-df-convert:hover {\n",
              "      background-color: #E2EBFA;\n",
              "      box-shadow: 0px 1px 2px rgba(60, 64, 67, 0.3), 0px 1px 3px 1px rgba(60, 64, 67, 0.15);\n",
              "      fill: #174EA6;\n",
              "    }\n",
              "\n",
              "    .colab-df-buttons div {\n",
              "      margin-bottom: 4px;\n",
              "    }\n",
              "\n",
              "    [theme=dark] .colab-df-convert {\n",
              "      background-color: #3B4455;\n",
              "      fill: #D2E3FC;\n",
              "    }\n",
              "\n",
              "    [theme=dark] .colab-df-convert:hover {\n",
              "      background-color: #434B5C;\n",
              "      box-shadow: 0px 1px 3px 1px rgba(0, 0, 0, 0.15);\n",
              "      filter: drop-shadow(0px 1px 2px rgba(0, 0, 0, 0.3));\n",
              "      fill: #FFFFFF;\n",
              "    }\n",
              "  </style>\n",
              "\n",
              "    <script>\n",
              "      const buttonEl =\n",
              "        document.querySelector('#df-436b777f-4b52-4300-84f3-c30f0a4ed0c5 button.colab-df-convert');\n",
              "      buttonEl.style.display =\n",
              "        google.colab.kernel.accessAllowed ? 'block' : 'none';\n",
              "\n",
              "      async function convertToInteractive(key) {\n",
              "        const element = document.querySelector('#df-436b777f-4b52-4300-84f3-c30f0a4ed0c5');\n",
              "        const dataTable =\n",
              "          await google.colab.kernel.invokeFunction('convertToInteractive',\n",
              "                                                    [key], {});\n",
              "        if (!dataTable) return;\n",
              "\n",
              "        const docLinkHtml = 'Like what you see? Visit the ' +\n",
              "          '<a target=\"_blank\" href=https://colab.research.google.com/notebooks/data_table.ipynb>data table notebook</a>'\n",
              "          + ' to learn more about interactive tables.';\n",
              "        element.innerHTML = '';\n",
              "        dataTable['output_type'] = 'display_data';\n",
              "        await google.colab.output.renderOutput(dataTable, element);\n",
              "        const docLink = document.createElement('div');\n",
              "        docLink.innerHTML = docLinkHtml;\n",
              "        element.appendChild(docLink);\n",
              "      }\n",
              "    </script>\n",
              "  </div>\n",
              "\n",
              "\n",
              "<div id=\"df-4dd215ab-943e-4c0c-9cfe-24298a0d4d82\">\n",
              "  <button class=\"colab-df-quickchart\" onclick=\"quickchart('df-4dd215ab-943e-4c0c-9cfe-24298a0d4d82')\"\n",
              "            title=\"Suggest charts\"\n",
              "            style=\"display:none;\">\n",
              "\n",
              "<svg xmlns=\"http://www.w3.org/2000/svg\" height=\"24px\"viewBox=\"0 0 24 24\"\n",
              "     width=\"24px\">\n",
              "    <g>\n",
              "        <path d=\"M19 3H5c-1.1 0-2 .9-2 2v14c0 1.1.9 2 2 2h14c1.1 0 2-.9 2-2V5c0-1.1-.9-2-2-2zM9 17H7v-7h2v7zm4 0h-2V7h2v10zm4 0h-2v-4h2v4z\"/>\n",
              "    </g>\n",
              "</svg>\n",
              "  </button>\n",
              "\n",
              "<style>\n",
              "  .colab-df-quickchart {\n",
              "      --bg-color: #E8F0FE;\n",
              "      --fill-color: #1967D2;\n",
              "      --hover-bg-color: #E2EBFA;\n",
              "      --hover-fill-color: #174EA6;\n",
              "      --disabled-fill-color: #AAA;\n",
              "      --disabled-bg-color: #DDD;\n",
              "  }\n",
              "\n",
              "  [theme=dark] .colab-df-quickchart {\n",
              "      --bg-color: #3B4455;\n",
              "      --fill-color: #D2E3FC;\n",
              "      --hover-bg-color: #434B5C;\n",
              "      --hover-fill-color: #FFFFFF;\n",
              "      --disabled-bg-color: #3B4455;\n",
              "      --disabled-fill-color: #666;\n",
              "  }\n",
              "\n",
              "  .colab-df-quickchart {\n",
              "    background-color: var(--bg-color);\n",
              "    border: none;\n",
              "    border-radius: 50%;\n",
              "    cursor: pointer;\n",
              "    display: none;\n",
              "    fill: var(--fill-color);\n",
              "    height: 32px;\n",
              "    padding: 0;\n",
              "    width: 32px;\n",
              "  }\n",
              "\n",
              "  .colab-df-quickchart:hover {\n",
              "    background-color: var(--hover-bg-color);\n",
              "    box-shadow: 0 1px 2px rgba(60, 64, 67, 0.3), 0 1px 3px 1px rgba(60, 64, 67, 0.15);\n",
              "    fill: var(--button-hover-fill-color);\n",
              "  }\n",
              "\n",
              "  .colab-df-quickchart-complete:disabled,\n",
              "  .colab-df-quickchart-complete:disabled:hover {\n",
              "    background-color: var(--disabled-bg-color);\n",
              "    fill: var(--disabled-fill-color);\n",
              "    box-shadow: none;\n",
              "  }\n",
              "\n",
              "  .colab-df-spinner {\n",
              "    border: 2px solid var(--fill-color);\n",
              "    border-color: transparent;\n",
              "    border-bottom-color: var(--fill-color);\n",
              "    animation:\n",
              "      spin 1s steps(1) infinite;\n",
              "  }\n",
              "\n",
              "  @keyframes spin {\n",
              "    0% {\n",
              "      border-color: transparent;\n",
              "      border-bottom-color: var(--fill-color);\n",
              "      border-left-color: var(--fill-color);\n",
              "    }\n",
              "    20% {\n",
              "      border-color: transparent;\n",
              "      border-left-color: var(--fill-color);\n",
              "      border-top-color: var(--fill-color);\n",
              "    }\n",
              "    30% {\n",
              "      border-color: transparent;\n",
              "      border-left-color: var(--fill-color);\n",
              "      border-top-color: var(--fill-color);\n",
              "      border-right-color: var(--fill-color);\n",
              "    }\n",
              "    40% {\n",
              "      border-color: transparent;\n",
              "      border-right-color: var(--fill-color);\n",
              "      border-top-color: var(--fill-color);\n",
              "    }\n",
              "    60% {\n",
              "      border-color: transparent;\n",
              "      border-right-color: var(--fill-color);\n",
              "    }\n",
              "    80% {\n",
              "      border-color: transparent;\n",
              "      border-right-color: var(--fill-color);\n",
              "      border-bottom-color: var(--fill-color);\n",
              "    }\n",
              "    90% {\n",
              "      border-color: transparent;\n",
              "      border-bottom-color: var(--fill-color);\n",
              "    }\n",
              "  }\n",
              "</style>\n",
              "\n",
              "  <script>\n",
              "    async function quickchart(key) {\n",
              "      const quickchartButtonEl =\n",
              "        document.querySelector('#' + key + ' button');\n",
              "      quickchartButtonEl.disabled = true;  // To prevent multiple clicks.\n",
              "      quickchartButtonEl.classList.add('colab-df-spinner');\n",
              "      try {\n",
              "        const charts = await google.colab.kernel.invokeFunction(\n",
              "            'suggestCharts', [key], {});\n",
              "      } catch (error) {\n",
              "        console.error('Error during call to suggestCharts:', error);\n",
              "      }\n",
              "      quickchartButtonEl.classList.remove('colab-df-spinner');\n",
              "      quickchartButtonEl.classList.add('colab-df-quickchart-complete');\n",
              "    }\n",
              "    (() => {\n",
              "      let quickchartButtonEl =\n",
              "        document.querySelector('#df-4dd215ab-943e-4c0c-9cfe-24298a0d4d82 button');\n",
              "      quickchartButtonEl.style.display =\n",
              "        google.colab.kernel.accessAllowed ? 'block' : 'none';\n",
              "    })();\n",
              "  </script>\n",
              "</div>\n",
              "\n",
              "    </div>\n",
              "  </div>\n"
            ],
            "application/vnd.google.colaboratory.intrinsic+json": {
              "type": "dataframe",
              "summary": "{\n  \"name\": \"pd\",\n  \"rows\": 5,\n  \"fields\": [\n    {\n      \"column\": \"order_id\",\n      \"properties\": {\n        \"dtype\": \"number\",\n        \"std\": 0,\n        \"min\": 1,\n        \"max\": 3,\n        \"num_unique_values\": 3,\n        \"samples\": [\n          1,\n          2,\n          3\n        ],\n        \"semantic_type\": \"\",\n        \"description\": \"\"\n      }\n    },\n    {\n      \"column\": \"product_id\",\n      \"properties\": {\n        \"dtype\": \"number\",\n        \"std\": 12,\n        \"min\": 15,\n        \"max\": 44,\n        \"num_unique_values\": 5,\n        \"samples\": [\n          36,\n          44,\n          26\n        ],\n        \"semantic_type\": \"\",\n        \"description\": \"\"\n      }\n    },\n    {\n      \"column\": \"quantity\",\n      \"properties\": {\n        \"dtype\": \"number\",\n        \"std\": 1,\n        \"min\": 1,\n        \"max\": 4,\n        \"num_unique_values\": 3,\n        \"samples\": [\n          4,\n          3,\n          1\n        ],\n        \"semantic_type\": \"\",\n        \"description\": \"\"\n      }\n    },\n    {\n      \"column\": \"item_total\",\n      \"properties\": {\n        \"dtype\": \"number\",\n        \"std\": 379.1262955797184,\n        \"min\": 47.6,\n        \"max\": 868.8,\n        \"num_unique_values\": 5,\n        \"samples\": [\n          47.6,\n          132.2,\n          736.0\n        ],\n        \"semantic_type\": \"\",\n        \"description\": \"\"\n      }\n    }\n  ]\n}"
            }
          },
          "metadata": {},
          "execution_count": 29
        }
      ]
    },
    {
      "cell_type": "markdown",
      "source": [
        "## Sales Trend Report\n",
        "This query aggregates orders by month to show overall trends in order count and revenue.\n",
        "\n",
        "Insights:\n",
        "\n",
        "*   Helps identify peak sales periods and seasonal trends.\n",
        "*   Informs forecasting and inventory planning."
      ],
      "metadata": {
        "id": "J5T7gIvERWqZ"
      }
    },
    {
      "cell_type": "code",
      "source": [
        "# --------------------------------------\n",
        "# STEP 3: Execute SQL queries for business reports\n",
        "# --------------------------------------\n",
        "\n",
        "# Query 1: Sales Trend Report (aggregating orders by month)\n",
        "sales_trend_query = \"\"\"\n",
        "SELECT\n",
        "    strftime('%Y-%m', order_date) AS Month,\n",
        "    COUNT(order_id) AS Total_Orders,\n",
        "    SUM(total_amount) AS Total_Revenue\n",
        "FROM Orders\n",
        "GROUP BY strftime('%Y-%m', order_date)\n",
        "ORDER BY Month;\n",
        "\"\"\"\n",
        "df_sales_trend = pd.read_sql_query(sales_trend_query, conn)\n",
        "print(\"Sales Trend Report:\")\n",
        "print(df_sales_trend)\n",
        "print(\"\\n\")"
      ],
      "metadata": {
        "colab": {
          "base_uri": "https://localhost:8080/"
        },
        "id": "yvMWGXHCBX-q",
        "outputId": "c0ac15f3-c625-4490-88f3-7b680e4c738b"
      },
      "execution_count": null,
      "outputs": [
        {
          "output_type": "stream",
          "name": "stdout",
          "text": [
            "Sales Trend Report:\n",
            "      Month  Total_Orders  Total_Revenue\n",
            "0   2024-03            20         1169.7\n",
            "1   2024-04            47         3030.5\n",
            "2   2024-05            31         1878.3\n",
            "3   2024-06            36         2866.0\n",
            "4   2024-07            52         3238.4\n",
            "5   2024-08            40         2977.2\n",
            "6   2024-09            57         4111.5\n",
            "7   2024-10            49         3566.8\n",
            "8   2024-11            35         2427.2\n",
            "9   2024-12            38         2726.4\n",
            "10  2025-01            43         3310.1\n",
            "11  2025-02            35         2473.4\n",
            "12  2025-03            17         1064.7\n",
            "\n",
            "\n"
          ]
        }
      ]
    },
    {
      "cell_type": "markdown",
      "source": [
        "## Campaign Impact Report\n",
        "This query measures the effectiveness of marketing campaigns by summarizing the number of orders, total revenue, and average order value per campaign.\n",
        "\n",
        "Insights:\n",
        "\n",
        "* Shows which campaigns generate the most orders and revenue.\n",
        "* Supports decision-making on future marketing investments.\n",
        "\n"
      ],
      "metadata": {
        "id": "4A3pDc-DWTpe"
      }
    },
    {
      "cell_type": "code",
      "source": [
        "# Query 2: Campaign Impact Report (joining Orders with Campaigns)\n",
        "campaign_impact_query = \"\"\"\n",
        "SELECT\n",
        "    cmp.campaign_id,\n",
        "    cmp.campaign_name,\n",
        "    COUNT(o.order_id) AS Orders_Count,\n",
        "    SUM(o.total_amount) AS Revenue,\n",
        "    AVG(o.total_amount) AS Avg_Order_Value\n",
        "FROM Orders o\n",
        "JOIN Campaigns cmp ON o.campaign_id = cmp.campaign_id\n",
        "GROUP BY cmp.campaign_id, cmp.campaign_name\n",
        "ORDER BY Revenue DESC;\n",
        "\"\"\"\n",
        "df_campaign_impact = pd.read_sql_query(campaign_impact_query, conn)\n",
        "print(\"Campaign Impact Report:\")\n",
        "print(df_campaign_impact)\n",
        "print(\"\\n\")"
      ],
      "metadata": {
        "colab": {
          "base_uri": "https://localhost:8080/"
        },
        "id": "wzLCIBoaCp8a",
        "outputId": "07bb5583-d841-498b-c89c-1dee9ed83dd2"
      },
      "execution_count": null,
      "outputs": [
        {
          "output_type": "stream",
          "name": "stdout",
          "text": [
            "Campaign Impact Report:\n",
            "   campaign_id campaign_name  Orders_Count  Revenue  Avg_Order_Value\n",
            "0            3    Campaign 3            59   4089.3        69.310169\n",
            "1           10   Campaign 10            54   3862.4        71.525926\n",
            "2            8    Campaign 8            54   3786.4        70.118519\n",
            "3            6    Campaign 6            55   3738.4        67.970909\n",
            "4            5    Campaign 5            57   3733.2        65.494737\n",
            "5            1    Campaign 1            47   3380.3        71.921277\n",
            "6            9    Campaign 9            47   3372.4        71.753191\n",
            "7            7    Campaign 7            42   3080.5        73.345238\n",
            "8            2    Campaign 2            44   3029.3        68.847727\n",
            "9            4    Campaign 4            41   2768.0        67.512195\n",
            "\n",
            "\n"
          ]
        }
      ]
    },
    {
      "cell_type": "markdown",
      "source": [
        "## Sales Representative Performance Report\n",
        "This query evaluates sales representative performance by summarizing their order count, total revenue, and average order value.\n",
        "\n",
        "Insights:\n",
        "\n",
        "* Identifies top-performing sales representatives.\n",
        "* Provides data to support performance-based incentives or targeted training.\n",
        "\n"
      ],
      "metadata": {
        "id": "Gpl2Ni0YWpXY"
      }
    },
    {
      "cell_type": "code",
      "source": [
        "# Query 3: Sales Representative Performance Report (joining Orders with SalesReps)\n",
        "sales_rep_query = \"\"\"\n",
        "SELECT\n",
        "    sr.sales_rep_id,\n",
        "    sr.name AS Sales_Rep_Name,\n",
        "    COUNT(o.order_id) AS Orders_Count,\n",
        "    SUM(o.total_amount) AS Total_Revenue,\n",
        "    AVG(o.total_amount) AS Avg_Order_Value\n",
        "FROM Orders o\n",
        "JOIN SalesReps sr ON o.sales_rep_id = sr.sales_rep_id\n",
        "GROUP BY sr.sales_rep_id, sr.name\n",
        "ORDER BY Total_Revenue DESC;\n",
        "\"\"\"\n",
        "df_sales_rep = pd.read_sql_query(sales_rep_query, conn)\n",
        "print(\"Sales Representative Performance Report:\")\n",
        "print(df_sales_rep)\n",
        "print(\"\\n\")"
      ],
      "metadata": {
        "colab": {
          "base_uri": "https://localhost:8080/"
        },
        "id": "yBtgmwZVCtoK",
        "outputId": "01a6f97e-b9ae-46a4-c0ce-a18d9e18bcd7"
      },
      "execution_count": null,
      "outputs": [
        {
          "output_type": "stream",
          "name": "stdout",
          "text": [
            "Sales Representative Performance Report:\n",
            "    sales_rep_id Sales_Rep_Name  Orders_Count  Total_Revenue  Avg_Order_Value\n",
            "0             14    SalesRep 14            32         2255.6        70.487500\n",
            "1             11    SalesRep 11            29         2183.4        75.289655\n",
            "2             10    SalesRep 10            30         2087.9        69.596667\n",
            "3             19    SalesRep 19            27         1970.4        72.977778\n",
            "4             20    SalesRep 20            25         1934.2        77.368000\n",
            "5              2     SalesRep 2            29         1900.2        65.524138\n",
            "6              3     SalesRep 3            27         1875.0        69.444444\n",
            "7             17    SalesRep 17            29         1869.6        64.468966\n",
            "8              8     SalesRep 8            27         1866.9        69.144444\n",
            "9             16    SalesRep 16            29         1852.3        63.872414\n",
            "10            18    SalesRep 18            25         1844.7        73.788000\n",
            "11            13    SalesRep 13            27         1764.7        65.359259\n",
            "12             1     SalesRep 1            23         1759.2        76.486957\n",
            "13             6     SalesRep 6            24         1756.8        73.200000\n",
            "14             5     SalesRep 5            20         1413.6        70.680000\n",
            "15             9     SalesRep 9            20         1391.0        69.550000\n",
            "16             7     SalesRep 7            18         1332.1        74.005556\n",
            "17             4     SalesRep 4            21         1325.1        63.100000\n",
            "18            12    SalesRep 12            20         1267.8        63.390000\n",
            "19            15    SalesRep 15            18         1189.7        66.094444\n",
            "\n",
            "\n"
          ]
        }
      ]
    },
    {
      "cell_type": "markdown",
      "source": [
        "## Customer Spending Report\n",
        "This query segments customers based on their spending, showing total orders, total spending, and average order value.\n",
        "\n",
        "Insights:\n",
        "\n",
        "* Highlights high-value customers for targeted loyalty programs.\n",
        "* Helps in identifying potential customer segments.\n",
        "\n"
      ],
      "metadata": {
        "id": "zPjGXtr9ZDOn"
      }
    },
    {
      "cell_type": "code",
      "source": [
        "# Query 4: Customer Spending Report (joining Orders with Customers)\n",
        "customer_spending_query = \"\"\"\n",
        "SELECT\n",
        "    c.customer_id,\n",
        "    c.name AS Customer_Name,\n",
        "    COUNT(o.order_id) AS Orders_Count,\n",
        "    SUM(o.total_amount) AS Total_Spending,\n",
        "    AVG(o.total_amount) AS Avg_Order_Value\n",
        "FROM Orders o\n",
        "JOIN Customers c ON o.customer_id = c.customer_id\n",
        "GROUP BY c.customer_id, c.name\n",
        "ORDER BY Total_Spending DESC;\n",
        "\"\"\"\n",
        "df_customer_spending = pd.read_sql_query(customer_spending_query, conn)\n",
        "print(\"Customer Spending Report:\")\n",
        "print(df_customer_spending)\n",
        "print(\"\\n\")\n"
      ],
      "metadata": {
        "colab": {
          "base_uri": "https://localhost:8080/"
        },
        "id": "50p_DfWlCzut",
        "outputId": "6bc56ac5-59b7-41f4-83a7-f18089d14eaf"
      },
      "execution_count": null,
      "outputs": [
        {
          "output_type": "stream",
          "name": "stdout",
          "text": [
            "Customer Spending Report:\n",
            "     customer_id Customer_Name  Orders_Count  Total_Spending  Avg_Order_Value\n",
            "0            442  Customer 442             4           351.7           87.925\n",
            "1            289  Customer 289             4           343.2           85.800\n",
            "2            176  Customer 176             4           322.0           80.500\n",
            "3            152  Customer 152             5           299.4           59.880\n",
            "4             47   Customer 47             4           286.1           71.525\n",
            "..           ...           ...           ...             ...              ...\n",
            "304            5    Customer 5             1            21.4           21.400\n",
            "305          394  Customer 394             1            21.2           21.200\n",
            "306          168  Customer 168             1            21.0           21.000\n",
            "307          210  Customer 210             1            21.0           21.000\n",
            "308          439  Customer 439             1            20.7           20.700\n",
            "\n",
            "[309 rows x 5 columns]\n",
            "\n",
            "\n"
          ]
        }
      ]
    },
    {
      "cell_type": "markdown",
      "source": [
        "## Product Sales Performance Report\n",
        "This query aggregates order item data to determine which products are the best sellers.\n",
        "\n",
        "Insights:\n",
        "\n",
        "*  Reveals the top-selling products.\n",
        "*  Informs product promotion and inventory management.\n",
        "\n",
        "\n"
      ],
      "metadata": {
        "id": "eeKDS9BAZeN0"
      }
    },
    {
      "cell_type": "code",
      "source": [
        "# Query 5: Product Sales Performance Report (joining Order_Items with Products)\n",
        "product_sales_query = \"\"\"\n",
        "SELECT\n",
        "    p.product_id,\n",
        "    p.product_name,\n",
        "    SUM(oi.quantity) AS Total_Quantity_Sold,\n",
        "    SUM(oi.item_total) AS Total_Sales\n",
        "FROM Order_Items oi\n",
        "JOIN Products p ON oi.product_id = p.product_id\n",
        "GROUP BY p.product_id, p.product_name\n",
        "ORDER BY Total_Quantity_Sold DESC;\n",
        "\"\"\"\n",
        "df_product_sales = pd.read_sql_query(product_sales_query, conn)\n",
        "print(\"Product Sales Performance Report:\")\n",
        "print(df_product_sales)\n",
        "print(\"\\n\")"
      ],
      "metadata": {
        "colab": {
          "base_uri": "https://localhost:8080/"
        },
        "id": "YXARPGWSC-MA",
        "outputId": "c833be2b-b63f-4e78-a8d2-f0414f2fdecb"
      },
      "execution_count": null,
      "outputs": [
        {
          "output_type": "stream",
          "name": "stdout",
          "text": [
            "Product Sales Performance Report:\n",
            "    product_id product_name  Total_Quantity_Sold  Total_Sales\n",
            "0           38   Product 38                  172       9697.6\n",
            "1           10   Product 10                  165       8336.0\n",
            "2           36   Product 36                  163       8357.6\n",
            "3           12   Product 12                  157       9587.8\n",
            "4           40   Product 40                  152       9187.3\n",
            "5           50   Product 50                  151       7649.3\n",
            "6           22   Product 22                  141      10180.1\n",
            "7           16   Product 16                  137      10167.5\n",
            "8           17   Product 17                  134       8991.2\n",
            "9           32   Product 32                  134       7510.7\n",
            "10          28   Product 28                  133      11234.6\n",
            "11           6    Product 6                  130       6100.0\n",
            "12          44   Product 44                  130       5810.4\n",
            "13           1    Product 1                  128       6498.1\n",
            "14          19   Product 19                  127       7328.1\n",
            "15          24   Product 24                  126       5681.3\n",
            "16          35   Product 35                  120       6914.2\n",
            "17          13   Product 13                  119       7653.2\n",
            "18          31   Product 31                  119       7036.9\n",
            "19          27   Product 27                  118       9592.3\n",
            "20           4    Product 4                  117       6410.5\n",
            "21          11   Product 11                  117       6955.0\n",
            "22          48   Product 48                  117       7333.4\n",
            "23          42   Product 42                  115       6883.1\n",
            "24          23   Product 23                  112       7307.7\n",
            "25          30   Product 30                  111       8240.2\n",
            "26           9    Product 9                  110       7256.6\n",
            "27           5    Product 5                  103       9092.9\n",
            "28          47   Product 47                  103       7072.1\n",
            "29          39   Product 39                  101       8048.7\n",
            "30           8    Product 8                  100       4907.4\n",
            "31          20   Product 20                  100       7076.1\n",
            "32          21   Product 21                   99       6326.0\n",
            "33          49   Product 49                   99       6509.3\n",
            "34          37   Product 37                   97       6525.3\n",
            "35          46   Product 46                   93       5534.7\n",
            "36          25   Product 25                   90       4118.3\n",
            "37          15   Product 15                   89       7159.6\n",
            "38          26   Product 26                   89       5800.2\n",
            "39          43   Product 43                   88       4356.1\n",
            "40           2    Product 2                   86       7266.5\n",
            "41          41   Product 41                   84       5888.9\n",
            "42          14   Product 14                   80       5168.2\n",
            "43          45   Product 45                   80       5145.1\n",
            "44           7    Product 7                   75       3563.9\n",
            "45           3    Product 3                   68       3922.0\n",
            "46          18   Product 18                   67       4831.9\n",
            "47          29   Product 29                   67       3972.5\n",
            "48          34   Product 34                   63       4796.1\n",
            "49          33   Product 33                   54       2674.4\n",
            "\n",
            "\n"
          ]
        }
      ]
    }
  ]
}
