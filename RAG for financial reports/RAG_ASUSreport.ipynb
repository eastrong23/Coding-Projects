{
 "cells": [
  {
   "cell_type": "markdown",
   "id": "af20d5d2",
   "metadata": {},
   "source": [
    "# Domain Selection & Data Sourcing\n",
    "The dataset used in this RAG system consists of annual reports from ASUS, a Taiwanese multinational corporation known for its computer, smartphone, and electronics products. The knowledge base includes reports from 2020 to 2024, with the most recent being the 2024 annual report.\n",
    "\n",
    "These documents were chosen because they contain fact-dense, proprietary, and up-to-date information on ASUS’s financials, ESG strategies, product developments, and governance policies—content that general-purpose LLMs are unlikely to have seen during pretraining.\n",
    "\n",
    "By grounding generation in this specialized dataset, the RAG system is able to provide accurate and contextually supported answers to domain-specific questions that standalone LLMs would likely hallucinate or answer incompletely."
   ]
  },
  {
   "cell_type": "markdown",
   "id": "db836b53",
   "metadata": {},
   "source": [
    "# Reasons to use RAG over standalone LLM"
   ]
  },
  {
   "cell_type": "markdown",
   "id": "e6773d49",
   "metadata": {},
   "source": [
    "## Proprietary and Up-to-date Content\n",
    "ASUS annual reports contain company-specific data such as financial results, ESG actions, corporate governance decisions, and product milestones that are:\n",
    "- Not publicly indexed on the web in fine detail\n",
    "- Not likely to appear in the pretraining data of general-purpose LLMs\n",
    "- Updated annually, so 2024 or even late 2023 content would not exist in any standalone LLM's knowledge base\n",
    "\n",
    "➡️ RAG allows real-time grounding in proprietary, evolving data."
   ]
  },
  {
   "cell_type": "markdown",
   "id": "1ec1816f",
   "metadata": {},
   "source": [
    "## Highly Factual, Precision-sensitive Domain\n",
    "Questions in the annual report domain often require precise, non-negotiable facts such as:\n",
    "- Net profit in 2023 or 2024\n",
    "- EPS(Earnings per Share)\n",
    "- Carbon emission target\n",
    "- Specific ISO certifications or ESG scores\n",
    "\n",
    "➡️ Standalone LLMs are prone to hallucination or guessing in such contexts. RAG enables retrieval of verbatim, source-linked facts, ensuring trust and auditability."
   ]
  },
  {
   "cell_type": "markdown",
   "id": "5d59a02d",
   "metadata": {},
   "source": [
    "## Structured + Unstructured Hybrid Texts\n",
    "The ASUS annual report includes:\n",
    "- Tables, KPIs, and numeric data\n",
    "- Governance principles written in bullet points\n",
    "\n",
    "Standalone LLMs struggle to handle mixed formats unless specifically trained on such hybrid corpora.\n",
    "\n",
    "➡️ RAG enables chunking, summarization (e.g., MultiVectorRetriever), and selective grounding from structured sources."
   ]
  },
  {
   "cell_type": "markdown",
   "id": "fe5c4d4e",
   "metadata": {},
   "source": [
    "## Query Ambiguity and Semantic Drift\n",
    "queries such as:\n",
    "- \"How did ASUS perform in ESG?\"\n",
    "- \"What are ASUS's governance priorities?\"\n",
    "\n",
    "are ambiguous and open-ended.\n",
    "Standalone LLMs might give plausible but vague answers.\n",
    "\n",
    "➡️ RAG systems can use techniques like HyDE to expand such queries and retrieve targeted content."
   ]
  },
  {
   "cell_type": "markdown",
   "id": "f07a01ad",
   "metadata": {},
   "source": [
    "# Import Packages"
   ]
  },
  {
   "cell_type": "code",
   "execution_count": 19,
   "id": "d71062d8",
   "metadata": {},
   "outputs": [],
   "source": [
    "import uuid\n",
    "from langchain_community.document_loaders import PyPDFLoader\n",
    "from langchain.text_splitter import RecursiveCharacterTextSplitter\n",
    "from langchain_core.documents import Document\n",
    "from langchain_community.vectorstores import Chroma\n",
    "from langchain_openai import OpenAIEmbeddings\n",
    "from langchain.retrievers.multi_vector import MultiVectorRetriever\n",
    "from langchain.storage import InMemoryStore\n",
    "from langchain_core.output_parsers import StrOutputParser\n",
    "from langchain_openai import ChatOpenAI\n",
    "from langchain_core.prompts import ChatPromptTemplate"
   ]
  },
  {
   "cell_type": "markdown",
   "id": "04187933",
   "metadata": {},
   "source": [
    "# Load Data"
   ]
  },
  {
   "cell_type": "markdown",
   "id": "2857b957",
   "metadata": {},
   "source": [
    "Load every annual report into a list and add its year to its metadata as information"
   ]
  },
  {
   "cell_type": "code",
   "execution_count": 3,
   "id": "4761f250",
   "metadata": {},
   "outputs": [
    {
     "name": "stdout",
     "output_type": "stream",
     "text": [
      "2020 Annual Reported Loaded\n",
      "2021 Annual Reported Loaded\n",
      "2022 Annual Reported Loaded\n",
      "2023 Annual Reported Loaded\n",
      "2024 Annual Reported Loaded\n"
     ]
    }
   ],
   "source": [
    "docs = []\n",
    "years = range(2020, 2025)\n",
    "\n",
    "for year in years:\n",
    "    path = f\"./{year}_Annual_Report.pdf\"\n",
    "    loader = PyPDFLoader(path)\n",
    "    doc_load = loader.load()\n",
    "    \n",
    "    # Add metadata to page to show the year\n",
    "    for doc in doc_load:\n",
    "        doc.metadata[\"year\"] = year\n",
    "        docs.append(doc)\n",
    "    print(f\"{year} Annual Reported Loaded\")\n"
   ]
  },
  {
   "cell_type": "markdown",
   "id": "968f4ee5",
   "metadata": {},
   "source": [
    "# Data Preprocessing"
   ]
  },
  {
   "cell_type": "markdown",
   "id": "457f07e2",
   "metadata": {},
   "source": [
    "## Chunking\n",
    "The text from the ASUS annual reports is first split into manageable chunks using a sliding window approach with a chunk size of 1000 tokens and an overlap of 200 tokens. This ensures that:\n",
    "- Each chunk contains enough context for semantic understanding\n",
    "- Overlap preserves continuity across adjacent sections and avoids information loss at boundaries"
   ]
  },
  {
   "cell_type": "code",
   "execution_count": 17,
   "id": "47cc40c7",
   "metadata": {},
   "outputs": [
    {
     "name": "stdout",
     "output_type": "stream",
     "text": [
      "Total Chunks: 6115\n"
     ]
    }
   ],
   "source": [
    "#Split data\n",
    "splitter = RecursiveCharacterTextSplitter(chunk_size=1000, chunk_overlap=200)\n",
    "chunks = splitter.split_documents(docs)\n",
    "print(f\"Total Chunks: {len(chunks)}\")"
   ]
  },
  {
   "cell_type": "markdown",
   "id": "7eb93d0f",
   "metadata": {},
   "source": [
    "## Embedding\n",
    "After splitting, each chunk is embedded using OpenAI's text-embedding-3-small model, a state-of-the-art embedding model known for its balance between performance and cost. These embeddings are used for vector similarity search in the RAG retrieval pipeline, allowing semantically relevant chunks to be retrieved even when the original user query uses different phrasing or vocabulary."
   ]
  },
  {
   "cell_type": "code",
   "execution_count": 20,
   "id": "75594c72",
   "metadata": {},
   "outputs": [],
   "source": [
    "embedding_model = OpenAIEmbeddings(model=\"text-embedding-3-small\")\n",
    "llm = ChatOpenAI(model=\"gpt-4.1-mini\", temperature=0)"
   ]
  },
  {
   "cell_type": "markdown",
   "id": "0ffcb06e",
   "metadata": {},
   "source": [
    "## Vector Store(Multi Vector Retriever)\n",
    "Annual reports often contain a mix of text and tables. Simply splitting the document into chunks and embedding them directly can lead to important information—like entire tables—being lost or misrepresented (Oshin & Campos, 2025).\n",
    "\n",
    "To handle this, each chunk is first summarized by an LLM. These summaries are then embedded and stored in a MultiVectorRetriever, while the original chunks are stored separately. This allows the system to search using concise semantic summaries, but still return the full, detailed chunks for generation."
   ]
  },
  {
   "cell_type": "code",
   "execution_count": 21,
   "id": "f9a7e6c8",
   "metadata": {},
   "outputs": [
    {
     "name": "stdout",
     "output_type": "stream",
     "text": [
      "✅ Summaries generated.\n"
     ]
    }
   ],
   "source": [
    "prompt_template = \"Please summarize the following document:\\n\\n{doc}\"\n",
    "prompt = ChatPromptTemplate.from_template(prompt_template)\n",
    "summarize_chain = (\n",
    "    {\"doc\": lambda x: x.page_content}\n",
    "    | prompt\n",
    "    | llm\n",
    "    | StrOutputParser()\n",
    ")\n",
    "\n",
    "summarises = summarize_chain.batch(chunks, {\"max_concurrency\": 5})\n",
    "print(\"✅ Summaries generated.\")"
   ]
  },
  {
   "cell_type": "markdown",
   "id": "9e4c2422",
   "metadata": {},
   "source": [
    "The original chunks are stored separately in an InMemoryStore. After retrieving relevant summaries using the MultiVectorRetriever, the system uses their IDs to fetch the corresponding full chunks from memory for final answer generation."
   ]
  },
  {
   "cell_type": "code",
   "execution_count": null,
   "id": "a062bb87",
   "metadata": {},
   "outputs": [
    {
     "name": "stderr",
     "output_type": "stream",
     "text": [
      "C:\\Users\\eason\\AppData\\Local\\Temp\\ipykernel_21412\\2108850151.py:2: LangChainDeprecationWarning: The class `Chroma` was deprecated in LangChain 0.2.9 and will be removed in 1.0. An updated version of the class exists in the :class:`~langchain-chroma package and should be used instead. To use it run `pip install -U :class:`~langchain-chroma` and import as `from :class:`~langchain_chroma import Chroma``.\n",
      "  vectorstore = Chroma(\n"
     ]
    }
   ],
   "source": [
    "# Prepare the structure used by MultiVectorRetriever\n",
    "vectorstore = Chroma(\n",
    "    embedding_function=embedding_model,\n",
    "    persist_directory=\"./chroma_multivector\",\n",
    "    collection_name=\"asus_summary_vectors\"\n",
    ")\n",
    "docstore = InMemoryStore() # To store original chunk\n",
    "id_key = \"doc_id\"\n",
    "\n",
    "retriever = MultiVectorRetriever(\n",
    "    vectorstore=vectorstore,\n",
    "    docstore=docstore,\n",
    "    id_key=id_key,\n",
    ")\n",
    "\n",
    "# Generate a unique ID for each summary and establish a corresponding\n",
    "doc_ids = [str(uuid.uuid4()) for _ in chunks]\n",
    "\n",
    "summary_docs = [\n",
    "    Document(page_content=s, metadata={id_key: doc_ids[i]})\n",
    "    for i, s in enumerate(summarises)\n",
    "]"
   ]
  },
  {
   "cell_type": "code",
   "execution_count": null,
   "id": "a51d80c5",
   "metadata": {},
   "outputs": [
    {
     "name": "stdout",
     "output_type": "stream",
     "text": [
      "✅ Added batch 1\n",
      "✅ Added batch 2\n",
      "✅ Vector store and document store ready.\n"
     ]
    }
   ],
   "source": [
    "# add summary to vector store\n",
    "BATCH_SIZE = 5000 #Limit is 5461 so split in 2 batch\n",
    "\n",
    "for i in range(0, len(summary_docs), BATCH_SIZE):\n",
    "    batch = summary_docs[i : i + BATCH_SIZE]\n",
    "    retriever.vectorstore.add_documents(batch)\n",
    "    print(f\"✅ Added batch {i//BATCH_SIZE + 1}\")\n",
    "\n",
    "# add original chunk to inmemory store\n",
    "retriever.docstore.mset(list(zip(doc_ids, chunks)))\n",
    "\n",
    "print(\"✅ Vector store and document store ready.\")\n"
   ]
  },
  {
   "cell_type": "code",
   "execution_count": 89,
   "id": "d3a93427",
   "metadata": {},
   "outputs": [
    {
     "name": "stdout",
     "output_type": "stream",
     "text": [
      "📌 Retrieved Chunks:\n",
      "\n",
      "--- Document 1 ---\n",
      "85\n",
      " \n",
      "85 \n",
      "˙ Lead the value chain to net zero \n",
      "In 2023, ASUS products averaged 42% better than Energy Star \n",
      "standards. ASUS achieved RE30 across its global operational sites \n",
      "through self -generation (solar ) and procurement of Renewable \n",
      "Energy Certificates (solar/wind). \n",
      "˙ For detailed progress on goal attainment, please refer to the \n",
      "ASUS 2023 Sustainability Report. \n",
      "9. Greenhouse gas \n",
      "inventory and \n",
      "verification status \n",
      "Please refer to the ASUS 2023 Sustainability Report. \n",
      " \n",
      "(VIII) Corporate S\n",
      "[Source Year]: 2023\n",
      "\n",
      "--- Document 2 ---\n",
      "59 \n",
      "credits or the \n",
      "number of RECs \n",
      "should be specified. \n",
      "Innovative technologies:  \n",
      "˙ Invest in innovative technologies \n",
      "˙ Remove residual emissions  \n",
      "˙ Lead the value chain to net zero \n",
      "In 2024, ASUS achieved RE50 for its global operations through \n",
      "on-site solar energy generation for self -consumption and the \n",
      "procurement of renewable energy certificates (solar and wind \n",
      "power). Additionally, ASUS’s newly launched notebook models \n",
      "exceed the ENERGY STAR®  standards by an average of 47.9%. \n",
      "˙ F\n",
      "[Source Year]: 2024\n",
      "\n",
      "--- Document 3 ---\n",
      "introducing a centralized intelligent energy management \n",
      "system. For products, ASUS has established its 2025 \n",
      "Sustainability Goals, one of which is the main topic of \n",
      "\"Circular Economy.\" which includes improving the \n",
      "energy efficiency of products and using eco-friendly \n",
      "materials, such as PCR plastics, post industrial recycled \n",
      "metals (PIR), paper from the Forest Stewardship Council. \n",
      "Through the rigorous audit by international environmental \n",
      "protection agencies, the Company obtains its green \n",
      "p\n",
      "[Source Year]: 2024\n",
      "\n",
      "--- Document 4 ---\n",
      "reduction pathways br oken down into three steps: improving energy efficiency, expanding the use of \n",
      "renewable energy, and removing remaining emissions. ASUS has committed to using 100% renewable \n",
      "energy in Taiwan-based operations centers by 2030 and in global operations centers by 2035, and we are \n",
      "making progress in furthering our entire value chain towards net zero. In addition, ASUS was recently \n",
      "honored as Asia’s Most Socially Responsible Company of the Year and received an Institutional \n",
      "S\n",
      "[Source Year]: 2021\n"
     ]
    }
   ],
   "source": [
    "# Test query to see if multivectorretriever is working well \n",
    "query = \"What sustainability actions did ASUS report in 2023?\"\n",
    "retrieved_docs = retriever.invoke(query)\n",
    "\n",
    "# Output results\n",
    "print(\"📌 Retrieved Chunks:\")\n",
    "for i, doc in enumerate(retrieved_docs):\n",
    "    print(f\"\\n--- Document {i+1} ---\")\n",
    "    print(doc.page_content[:500])  # print the first 500 to check\n",
    "    print(f\"[Source Year]: {doc.metadata.get('year')}\")"
   ]
  },
  {
   "cell_type": "markdown",
   "id": "450ccbdf",
   "metadata": {},
   "source": [
    "# HyDE (Hypothetical Document Embeddings)"
   ]
  },
  {
   "cell_type": "markdown",
   "id": "31a08911",
   "metadata": {},
   "source": [
    "To improve retrieval, this system uses HyDE (Hypothetical Document Embeddings). Instead of directly embedding the user's question, the model first generates a hypothetical passage—a detailed paragraph that imagines what a good answer might look like.\n",
    "\n",
    "This generated passage is then embedded and used for similarity search. The idea is that a full, coherent passage captures the user's intent better than a short or vague question, leading to more accurate retrieval.\n",
    "\n",
    "According to Oshin & Campos (2025), a hypothetical document generated by an LLM tends to be semantically closer to the relevant source texts than the original query itself."
   ]
  },
  {
   "cell_type": "code",
   "execution_count": null,
   "id": "f0f371db",
   "metadata": {},
   "outputs": [],
   "source": [
    "def run_hyde_rag(question: str, feedback: str = \"\",top_k: int = 5) -> dict:\n",
    "    # HyDE passage prompt（with feedback）\n",
    "    hyde_prompt = ChatPromptTemplate.from_template(\n",
    "        \"\"\"You are a financial expert. Based on the question and prior feedback, write a detailed and fact-focused passage that can help retrieve relevant company information.\n",
    "\n",
    "Question:\n",
    "{question}\n",
    "\n",
    "Critic Feedback:\n",
    "{feedback}\n",
    "\n",
    "Generated Passage:\"\"\"\n",
    "    )\n",
    "    hyde_llm = ChatOpenAI(model=\"gpt-4.1-mini\", temperature=0)\n",
    "    hyde_generate = hyde_prompt | hyde_llm | StrOutputParser()\n",
    "    hypothetical_passage = hyde_generate.invoke({\"question\": question, \"feedback\": feedback})\n",
    "\n",
    "    # Embedding + Retrieval\n",
    "    query_embedding = embedding_model.embed_query(hypothetical_passage)\n",
    "    summary_docs = vectorstore.similarity_search_by_vector(query_embedding, k=top_k)\n",
    "    doc_ids = [doc.metadata[\"doc_id\"] for doc in summary_docs]\n",
    "    chunks = [docstore.mget([doc_id])[0] for doc_id in doc_ids]\n",
    "\n",
    "    # RAG Answer Generation\n",
    "    context = \"\\n\\n\".join([doc.page_content for doc in chunks])\n",
    "    rag_prompt = ChatPromptTemplate.from_template(\n",
    "        \"\"\"You are a corporate analyst. Use the information below to answer the question.\n",
    "\n",
    "Context:\n",
    "{context}\n",
    "\n",
    "Question:\n",
    "{question}\n",
    "\n",
    "Answer:\"\"\"\n",
    "    )\n",
    "    formatted_prompt = rag_prompt.format_messages(\n",
    "        context=context,\n",
    "        question=question\n",
    "    )\n",
    "    answer_llm = ChatOpenAI(model=\"gpt-4.1-mini\", temperature=0)\n",
    "    answer = answer_llm.invoke(formatted_prompt)\n",
    "\n",
    "    return {\n",
    "        \"answer\": answer.content,\n",
    "        \"retrieved_docs\": chunks,\n",
    "        \"hyde_passage\": hypothetical_passage\n",
    "    }"
   ]
  },
  {
   "cell_type": "markdown",
   "id": "a18b4515",
   "metadata": {},
   "source": [
    "# Self Correction"
   ]
  },
  {
   "cell_type": "markdown",
   "id": "50bb3066",
   "metadata": {},
   "source": [
    "To improve answer reliability, a self-correcting loop is implemented using an LLM as a critic.\n",
    "\n",
    "After generating an answer with HyDE and retrieval, the response is sent to a second LLM acting as a fact-checking assistant. This critic evaluates whether the answer is fully supported by the retrieved context. If the response is approved, the loop ends.\n",
    "\n",
    "If the critic finds issues—such as missing details or unsupported claims—it provides feedback, which is then used to guide a new HyDE generation in the next iteration. The system repeats this process for up to three rounds by default, balancing quality with runtime efficiency.\n",
    "\n",
    "This approach helps filter out hallucinations and encourages grounded, verifiable answers."
   ]
  },
  {
   "cell_type": "code",
   "execution_count": null,
   "id": "0837a573",
   "metadata": {},
   "outputs": [],
   "source": [
    "def run_self_correcting_hyde_rag(question: str, max_rounds: int = 3) -> dict:\n",
    "    critic_prompt = ChatPromptTemplate.from_template(\n",
    "        \"\"\"You are a fact-checking assistant. Evaluate the following answer based on the provided context.\n",
    "\n",
    "Context:\n",
    "{context}\n",
    "\n",
    "Answer:\n",
    "{answer}\n",
    "\n",
    "Question:\n",
    "{question}\n",
    "\n",
    "If the answer is factually supported and complete, reply only: APPROVED.\n",
    "If not, explain what is missing or incorrect and suggest improvements.\"\"\"\n",
    "    )\n",
    "    critic_llm = ChatOpenAI(model=\"gpt-4.1-mini\", temperature=0)\n",
    "\n",
    "    feedback = \"\"  # no critics initially\n",
    "    for round in range(max_rounds):\n",
    "        print(f\"\\n🔁 Iteration {round + 1}:\")\n",
    "\n",
    "        # Add feedback\n",
    "        result = run_hyde_rag(question, feedback)\n",
    "        answer = result[\"answer\"]\n",
    "        retrieved_docs = result[\"retrieved_docs\"]\n",
    "        context = \"\\n\\n\".join([doc.page_content for doc in retrieved_docs])\n",
    "\n",
    "        # Critic, evaluate the answer\n",
    "        critic_input = critic_prompt.format_messages(\n",
    "            context=context,\n",
    "            answer=answer,\n",
    "            question=question\n",
    "        )\n",
    "        verdict = critic_llm.invoke(critic_input).content.strip()\n",
    "        print(\"🧠 Critic verdict:\", verdict[:100])\n",
    "\n",
    "        if verdict.startswith(\"APPROVED\"):\n",
    "            print(\"✅ Answer approved by Critic.\")\n",
    "            result[\"verdict\"] = verdict\n",
    "            result[\"approved\"] = True\n",
    "            return result\n",
    "        else:\n",
    "            print(\"❌ Critic suggests revision. Continuing loop...\")\n",
    "            feedback = verdict  # Add critic into next loop\n",
    "\n",
    "    result[\"verdict\"] = verdict\n",
    "    result[\"approved\"] = False\n",
    "    return result\n"
   ]
  },
  {
   "cell_type": "markdown",
   "id": "9be32231",
   "metadata": {},
   "source": [
    "# Normal LLM Invoke in a function"
   ]
  },
  {
   "cell_type": "markdown",
   "id": "be0d6b4c",
   "metadata": {},
   "source": [
    "To compare with RAG based LLM, the LLM is set to the same model, gpt-4.1-mini"
   ]
  },
  {
   "cell_type": "code",
   "execution_count": null,
   "id": "714131c5",
   "metadata": {},
   "outputs": [],
   "source": [
    "import re\n",
    "def without_rag(question: str) -> str:\n",
    "    # Call LLM\n",
    "    llm = ChatOpenAI(model='gpt-4.1-mini', temperature=0)\n",
    "    result = llm.invoke(question)\n",
    "    return result.content"
   ]
  },
  {
   "cell_type": "markdown",
   "id": "4f4690df",
   "metadata": {},
   "source": [
    "# Generation"
   ]
  },
  {
   "cell_type": "markdown",
   "id": "e72c06ae",
   "metadata": {},
   "source": [
    "## Easy"
   ]
  },
  {
   "cell_type": "markdown",
   "id": "a70bbf94",
   "metadata": {},
   "source": [
    "Three straightforward, fact-based questions were selected to evaluate whether the model can correctly retrieve and answer with verifiable data:\n",
    "\n",
    "- Net Profit in 2023?\n",
    "- Invest in R&D in 2022?\n",
    "- Chairman in 2024?"
   ]
  },
  {
   "cell_type": "markdown",
   "id": "4d3e98ea",
   "metadata": {},
   "source": [
    "### Net profit in 2023"
   ]
  },
  {
   "cell_type": "code",
   "execution_count": null,
   "id": "bf45cff1",
   "metadata": {},
   "outputs": [
    {
     "data": {
      "text/plain": [
       "\"I don't have access to ASUS's financial data for 2024. For the most accurate and up-to-date information on ASUS's net profit in 2024, I recommend checking their official financial reports, press releases, or trusted financial news sources. You can also visit ASUS's investor relations website. If you need help finding these resources, let me know!\""
      ]
     },
     "execution_count": 42,
     "metadata": {},
     "output_type": "execute_result"
    }
   ],
   "source": [
    "without_rag(\"What was ASUS's net profit in 2023?\")"
   ]
  },
  {
   "cell_type": "code",
   "execution_count": 77,
   "id": "960751d9",
   "metadata": {},
   "outputs": [
    {
     "name": "stdout",
     "output_type": "stream",
     "text": [
      "\n",
      "🔁 Iteration 1:\n",
      "🧠 Critic verdict: The answer correctly interprets the 97% increase and uses the formula to calculate the 2023 net prof\n",
      "❌ Critic suggests revision. Continuing loop...\n",
      "\n",
      "🔁 Iteration 2:\n",
      "🧠 Critic verdict: APPROVED\n",
      "✅ Answer approved by Critic.\n",
      "📣 Final Answer:\n",
      " ASUS's net profit after tax in 2023 was NT$17.9 billion.\n",
      "\n",
      "🧠 HyDE passage:\n",
      " ASUS reported a net profit after tax of approximately NT$17.35 billion in 2023. This figure is derived from the company's 2024 net profit after tax of NT$34.2 billion, which represents a 97% increase compared to the previous year. By applying the formula to reverse-calculate the 2023 net profit—dividing the 2024 profit by 1.97—the 2023 net profit is confirmed to be around NT$17.35 billion. This substantial year-over-year growth highlights ASUS's improved financial performance and profitability in 2024 relative to 2023.\n",
      "\n",
      "📄 Retrieved Chunks:\n",
      "\n",
      "--- Chunk 1 ---\n",
      "3 \n",
      "compared to 2023. Net profit after tax was NT$34.2 billion, with net profit attributable to the owners of the \n",
      "parent company reaching NT$31.4 billion, a 97% increase from the previous year. Earnings per share after \n",
      "tax were NT$42. For brand operations, ASUS’s consolidated brand revenue for 2024 was NT$548.5 billion \n",
      "(unaudited), a 22% increase compared to 2023, with a brand operating profit of NT$27.5 billion (unaudited), \n",
      "a 229% increase compared to 2023. \n",
      " \n",
      "Looking ahead, although AI -ena\n",
      "[Year]: 2024\n",
      "\n",
      "--- Chunk 2 ---\n",
      "3\n",
      "3 \n",
      "for 2021 reached NT$535.2 billion, which is 30% more than in 2020. Net profit after tax was NT$46.6 \n",
      "billion, of which NT$44.5 billion was net profit attributable to owners of the parent company, representing \n",
      "an increase of 68% from 2020. After -tax earnings per share (EPS) were NT$59.98. In terms of brand \n",
      "operations, the combined revenue of ASUS brands for 2021 was NT$500.4 billion (unaudited), which was \n",
      "a 31% increase from 2020. Brand operating profit for 2021 was NT$48.2 billion (unau\n",
      "[Year]: 2021\n",
      "\n",
      "--- Chunk 3 ---\n",
      "3\n",
      "3 \n",
      "ASUS Group consolidated revenue for 2020 reached NT$412.8 billion, which is 17% more than in 2019. \n",
      "Net profit after tax was NT$28.4 billion, of which NT$26.6 billion was net profit attributable to owners of \n",
      "the parent company, representing an increase of 119% from 2019. After -tax earnings per share (EPS) \n",
      "were NT$35.76. \n",
      " \n",
      "In terms of brand operations, the combined revenue of ASUS brands for 2020 was NT$382.4 billion \n",
      "(unaudited), which was a 15% increase from 2019. Brand operating profi\n",
      "[Year]: 2020\n",
      "\n",
      "--- Chunk 4 ---\n",
      "33 \n",
      "NT$21.44. The consolidated brand revenue of ASUS in 2023 was NT$448 billion (unaudited), a decrease \n",
      "of 9.2% over 2022. Brand operating profit was NT$8.3 billion (unaudited), a decrease of 17.6% compared \n",
      "to 2022. \n",
      " \n",
      "Market demand remained volatile in 2023. The ASUS team had foreseen that the industry’s adjustment to \n",
      "this volatility would continue until the first half of 2023. ASUS embraced the reality of this situation and \n",
      "swiftly optimized operational efficiency and resource allocation w\n",
      "[Year]: 2023\n",
      "\n",
      "--- Chunk 5 ---\n",
      "resilience of digital operations. At the SGS annual meeting, ASUS received the IT Award for Excellence \n",
      "in Information Security Management. \n",
      " \n",
      "Striving to Become a Comprehensive AI Enterprise through Implementation of Design Thinking \n",
      " \n",
      "In 2023, ASUS Group's consolidated revenue reached NT$482.3 billion, a decrease of 10.2% compared to \n",
      "2022. The group's net income after tax was NT$17.9 billion, with attributable net income to the parent \n",
      "company's owners of NT$15.9 billion, an increase of 8.4% \n",
      "[Year]: 2023\n"
     ]
    }
   ],
   "source": [
    "result = run_self_correcting_hyde_rag(\"What was ASUS's net profit in 2023?\")\n",
    "print(\"📣 Final Answer:\\n\", result[\"answer\"])\n",
    "print(\"\\n🧠 HyDE passage:\\n\", result[\"hyde_passage\"])\n",
    "\n",
    "print(\"\\n📄 Retrieved Chunks:\")\n",
    "for i, doc in enumerate(result[\"retrieved_docs\"]):\n",
    "    print(f\"\\n--- Chunk {i+1} ---\")\n",
    "    print(doc.page_content[:500])\n",
    "    print(f\"[Year]: {doc.metadata.get('year')}\")"
   ]
  },
  {
   "cell_type": "markdown",
   "id": "1911ec12",
   "metadata": {},
   "source": [
    "### Invest in R&D in 2022"
   ]
  },
  {
   "cell_type": "code",
   "execution_count": 44,
   "id": "137fb657",
   "metadata": {},
   "outputs": [
    {
     "data": {
      "text/plain": [
       "'In 2022, ASUS invested approximately NT$11.5 billion (New Taiwan Dollars) in research and development (R&D).'"
      ]
     },
     "execution_count": 44,
     "metadata": {},
     "output_type": "execute_result"
    }
   ],
   "source": [
    "without_rag(\"How much did ASUS invest in R&D in 2022?\")"
   ]
  },
  {
   "cell_type": "code",
   "execution_count": 87,
   "id": "714c2564",
   "metadata": {},
   "outputs": [
    {
     "name": "stdout",
     "output_type": "stream",
     "text": [
      "\n",
      "🔁 Iteration 1:\n",
      "🧠 Critic verdict: APPROVED\n",
      "✅ Answer approved by Critic.\n",
      "\n",
      "📣 Final Answer:\n",
      " ASUS invested NT$20.6 billion in R&D in 2022.\n",
      "\n",
      "🧠 HyDE Passage (Generated Query):\n",
      " As of my knowledge cutoff date in early 2023, ASUS (ASUSTeK Computer Inc.), a Taiwan-based multinational computer and phone hardware and electronics company, had not publicly disclosed the specific amount invested in Research and Development (R&D) for the year 2022. Typically, companies report their annual R&D expenditures in their financial statements, which are included in annual reports or filings with financial regulatory authorities.\n",
      "\n",
      "To obtain the most accurate and up-to-date information regarding ASUS's R&D investment for 2022, one would need to consult the company's annual report or financial statements for that year, which are usually published in the following year. These documents can often be found on the company's official investor relations website or through financial databases and regulatory bodies that collect such filings.\n",
      "\n",
      "If the information for 2022 is not yet available, one might look at the R&D investment figures from previous years as an indication of the company's commitment to research and development. However, for the exact figure for 2022, it is necessary to refer to the latest official sources.\n",
      "\n",
      "📄 Retrieved Chunks:\n",
      "\n",
      "--- Chunk 1 ---\n",
      "the creativity or technology supplier. This cycle allows R&D  to sustain continuous \n",
      "development. These commitments to R&D, and the incentives provided by the Company’s \n",
      "management, allow ASUS to continuously recruit talented R&D. In the constantly-\n",
      "changing computer world, ASUS has key technologies and leading products enabling it to \n",
      "compete in the market and to create product value. The 2023 R&D expenses were NT$21.6 \n",
      "billion, accounting for about 5% of the total revenue. \n",
      " \n",
      "ASUS continues to\n",
      "[Year]: 2023\n",
      "\n",
      "--- Chunk 2 ---\n",
      "the creativity or technology supplier. This cycle allows R&D  to sustain continuous \n",
      "development. These commitments to R&D, and the incentives provided by the Company’s \n",
      "management, allow ASUS to continuously recruit talented R&D. In the constantly-\n",
      "changing computer world, ASUS has key technologies and leading products enabling it to \n",
      "compete in the market and to create product value. The 2022 R&D expenses were NT$20.6 \n",
      "billion, accounting for about 4% of the total revenue. \n",
      " \n",
      "ASUS continues to\n",
      "[Year]: 2022\n",
      "\n",
      "--- Chunk 3 ---\n",
      "the creativity or technology supplie r. This cycle allows R&D  to sustain continuous \n",
      "development. These commitments to R&D, and the incentives provided by the Company’s \n",
      "management, allow ASUS to continuously recruit talented R&D. In the constantly -\n",
      "changing computer world, ASUS has key technologies and leading products enabling it to \n",
      "compete in the market and to create product value. The 2024 R&D expenses were NT$22 \n",
      "billion, accounting for about 4% of the total revenue. \n",
      " \n",
      "ASUS continues to\n",
      "[Year]: 2024\n",
      "\n",
      "--- Chunk 4 ---\n",
      "development. These commitments to R&D, and the incentives provided by the Company’s \n",
      "management, allow ASUS to continuously recruit talented R&D. In the constantly -\n",
      "changing computer world, ASUS has key technologies and leading products enabling it to \n",
      "compete in the market and to create product value. The 2021 R&D expenses were NT$20.1 \n",
      "billion, accounting for about 4% of the total revenue. \n",
      " \n",
      "ASUS continues to commit R&D resources in new types of computer products such as \n",
      "gaming laptops, con\n",
      "[Year]: 2021\n",
      "\n",
      "--- Chunk 5 ---\n",
      "179\n",
      " \n",
      "179 \n",
      " \n",
      "2. In response to the needs of the R&D plan, the R&D expenses expected to be invested in \n",
      "2024 will account for about 3% to 5% of the total revenue for the year. \n",
      " \n",
      " (IV) The impact of domestic and international policies and law change on the Company’s \n",
      "finance and the responsive measures: None. \n",
      " \n",
      " (V) The impact of technology cha nge (Including Information Security Management)  and \n",
      "industrial change on the Company’s finance and the responsive measures: \n",
      "ASUS constantly strives to\n",
      "[Year]: 2023\n",
      "\n",
      "🧠 Critic Verdict:\n",
      " APPROVED\n"
     ]
    }
   ],
   "source": [
    "result = run_self_correcting_hyde_rag(\"How much did ASUS invest in R&D in 2022?\")\n",
    "\n",
    "print(\"\\n📣 Final Answer:\\n\", result[\"answer\"])\n",
    "print(\"\\n🧠 HyDE Passage (Generated Query):\\n\", result[\"hyde_passage\"])\n",
    "\n",
    "print(\"\\n📄 Retrieved Chunks:\")\n",
    "for i, doc in enumerate(result[\"retrieved_docs\"]):\n",
    "    print(f\"\\n--- Chunk {i+1} ---\")\n",
    "    print(doc.page_content[:500])  # show the first 500 words to avoid too long\n",
    "    print(f\"[Year]: {doc.metadata.get('year')}\")\n",
    "\n",
    "print(\"\\n🧠 Critic Verdict:\\n\", result[\"verdict\"])\n",
    "    "
   ]
  },
  {
   "cell_type": "markdown",
   "id": "b00112c6",
   "metadata": {},
   "source": [
    "### Chairman in 2024"
   ]
  },
  {
   "cell_type": "code",
   "execution_count": 46,
   "id": "b09aab02",
   "metadata": {},
   "outputs": [
    {
     "data": {
      "text/plain": [
       "'As of the 2024 annual report, the Chairman of ASUS is Jonney Shih.'"
      ]
     },
     "execution_count": 46,
     "metadata": {},
     "output_type": "execute_result"
    }
   ],
   "source": [
    "without_rag(\"Who is the Chairman of ASUS as of the 2024 annual report?\")"
   ]
  },
  {
   "cell_type": "code",
   "execution_count": 86,
   "id": "ad76e394",
   "metadata": {},
   "outputs": [
    {
     "name": "stdout",
     "output_type": "stream",
     "text": [
      "\n",
      "🔁 Iteration 1:\n",
      "🧠 Critic verdict: APPROVED\n",
      "✅ Answer approved by Critic.\n",
      "\n",
      "📣 Final Answer:\n",
      " The Chairman of ASUS as of the 2024 annual report is Jonney Shih.\n",
      "\n",
      "🧠 HyDE Passage (Generated Query):\n",
      " As of my last update in early 2023, I do not have access to the 2024 annual report for ASUS, or any events that may have occurred after that time. Therefore, I cannot provide the current Chairman of ASUS as of the 2024 annual report. As of my last knowledge update, Jonney Shih was the Chairman of ASUS. However, for the most current information, please refer to the latest reports or announcements from ASUS, as executive positions can change due to a variety of reasons including retirement, resignation, or organizational restructuring.\n",
      "\n",
      "📄 Retrieved Chunks:\n",
      "\n",
      "--- Chunk 1 ---\n",
      "3838 \n",
      "3. Directors’ Professional Qualifications and Independent Directors’ Independence Status \n",
      "    Criteria \n",
      " \n",
      " Name \n",
      "Professional Qualification and Experience \n",
      "(Note 1) \n",
      "Independence Status \n",
      "(Note 2) \n",
      "Total number of \n",
      "positions \n",
      "serving as \n",
      "Independent \n",
      "Director for the \n",
      "other Public \n",
      "Companies \n",
      "Jonney Shih \n",
      "He has served as the chairman of ASUS since 1993, leading the \n",
      "Company's strong growth over 30 years of rapid changes and \n",
      "challenges in the industry. Under his leadership, ASUS has \n",
      "becom\n",
      "[Year]: 2022\n",
      "\n",
      "--- Chunk 2 ---\n",
      "9 \n",
      "3. Directors’ Professional Qualifications and Independent Directors’ Independence Status \n",
      "    Criteria \n",
      " \n",
      " Name \n",
      "Professional Qualification and Experience \n",
      "(Note 1) \n",
      "Independence Status \n",
      "(Note 2) \n",
      "Total number of \n",
      "positions \n",
      "serving as \n",
      "Independent \n",
      "Director for the \n",
      "other Public \n",
      "Companies \n",
      "Jonney Shih \n",
      "He has served as the chairman of ASUS since 1993, leading the \n",
      "Company's strong growth over 30 years of rapid changes and \n",
      "challenges in the industry. Under his leadership, ASUS has \n",
      "become t\n",
      "[Year]: 2024\n",
      "\n",
      "--- Chunk 3 ---\n",
      "3535 \n",
      "3. Directors’ Professional Qualifications and Independent Directors’ Independence Status \n",
      "    Criteria \n",
      " \n",
      " Name \n",
      "Title \n",
      "Professional Qualification and Experience \n",
      "(Note 1) \n",
      "Independence \n",
      "Status \n",
      "(Note 2) \n",
      "Total number \n",
      "of positions \n",
      "serving as \n",
      "Independent \n",
      "Director for \n",
      "the other \n",
      "Public \n",
      "Companies \n",
      "Jonney Shih \n",
      "Director \n",
      "He has served as the chairman of ASUSTek  Computer since 1993, leading \n",
      "the Company's strong growth over 30 years of rapid changes and challenges \n",
      "in the industry. Under\n",
      "[Year]: 2021\n",
      "\n",
      "--- Chunk 4 ---\n",
      "45\n",
      "45 \n",
      "Director of UPI Semiconductor Corp., and ASUS PROPERTIES (VIETNAM) LTD. \n",
      "Note 8: Supervisor of ASUS TECHNOLOGY LICENSING, ASUS METAVERSE INC. and SHINYOPTICS CORP. \n",
      "Director of Askey Technology (Jiangsu) Limited. \n",
      "Note 9: Supervisor of Medus Technology Inc. \n",
      "Note 10: The shareholdings stated in the table exclude trust shareholdings that are with the “rights to use” reserved. \n",
      "Note 11: The Company did not have stock option issued up to the date of the annual report issued; therefore, the C\n",
      "[Year]: 2022\n",
      "\n",
      "--- Chunk 5 ---\n",
      "3838 \n",
      "3. Directors’ Professional Qualifications and Independent Directors’ Independence Status \n",
      "    Criteria \n",
      " \n",
      " Name \n",
      "Professional Qualification and Experience \n",
      "(Note 1) \n",
      "Independence Status \n",
      "(Note 2) \n",
      "Total number of \n",
      "positions \n",
      "serving as \n",
      "Independent \n",
      "Director for the \n",
      "other Public \n",
      "Companies \n",
      "Jonney Shih \n",
      "He has served as the chairman of ASUS since 1993, leading the \n",
      "Company's strong growth over 30 years of rapid changes and \n",
      "challenges in the industry. Under his leadership, ASUS has \n",
      "becom\n",
      "[Year]: 2023\n",
      "\n",
      "🧠 Critic Verdict:\n",
      " APPROVED\n"
     ]
    }
   ],
   "source": [
    "result = run_self_correcting_hyde_rag(\"Who is the Chairman of ASUS as of the 2024 annual report?\")\n",
    "\n",
    "print(\"\\n📣 Final Answer:\\n\", result[\"answer\"])\n",
    "print(\"\\n🧠 HyDE Passage (Generated Query):\\n\", result[\"hyde_passage\"])\n",
    "\n",
    "print(\"\\n📄 Retrieved Chunks:\")\n",
    "for i, doc in enumerate(result[\"retrieved_docs\"]):\n",
    "    print(f\"\\n--- Chunk {i+1} ---\")\n",
    "    print(doc.page_content[:500])  # show the first 500 words to avoid too long\n",
    "    print(f\"[Year]: {doc.metadata.get('year')}\")\n",
    "\n",
    "print(\"\\n🧠 Critic Verdict:\\n\", result[\"verdict\"])"
   ]
  },
  {
   "cell_type": "markdown",
   "id": "734b614f",
   "metadata": {},
   "source": [
    "## Ambiguous\n"
   ]
  },
  {
   "cell_type": "markdown",
   "id": "e0c6e94f",
   "metadata": {},
   "source": [
    "These queries are quite general, for example, “strategic priorities” might appear under multiple headings in the report, such as product strategy, ESG roadmap, or risk disclosures.\n",
    "- Has ASUS shown improvements in ESG performance over the past few years?\n",
    "- What are the company’s main strategic priorities in 2024?\n",
    "- How has ASUS addressed risks related to supply chain disruptions?"
   ]
  },
  {
   "cell_type": "markdown",
   "id": "b0d9ed7d",
   "metadata": {},
   "source": [
    "### Has ASUS shown improvements in ESG performance over the past few years?"
   ]
  },
  {
   "cell_type": "code",
   "execution_count": 48,
   "id": "2ccc4100",
   "metadata": {},
   "outputs": [
    {
     "data": {
      "text/plain": [
       "\"ASUS has demonstrated improvements in its Environmental, Social, and Governance (ESG) performance over the past few years. The company has increasingly integrated sustainability into its business strategy, focusing on areas such as reducing carbon emissions, enhancing energy efficiency, responsible supply chain management, and promoting social responsibility initiatives.\\n\\nKey indicators of ASUS's ESG progress include:\\n\\n1. **Environmental Initiatives**: ASUS has set targets to reduce greenhouse gas emissions and improve energy efficiency in its operations and products. The company has also worked on increasing the use of recycled materials and minimizing electronic waste through take-back and recycling programs.\\n\\n2. **Social Responsibility**: ASUS has invested in employee welfare, diversity and inclusion, and community engagement programs. It has also emphasized responsible labor practices within its supply chain.\\n\\n3. **Governance**: ASUS has strengthened its corporate governance framework by enhancing transparency, risk management, and ethical business practices.\\n\\nWhile specific ESG ratings and scores from third-party agencies (such as MSCI, Sustainalytics, or CDP) may vary, the overall trend indicates that ASUS is making steady progress in improving its ESG performance. For the most detailed and up-to-date information, reviewing ASUS’s latest sustainability reports and disclosures is recommended.\""
      ]
     },
     "execution_count": 48,
     "metadata": {},
     "output_type": "execute_result"
    }
   ],
   "source": [
    "without_rag(\"Has ASUS shown improvements in ESG performance over the past few years?\")"
   ]
  },
  {
   "cell_type": "code",
   "execution_count": 83,
   "id": "f686ba6c",
   "metadata": {},
   "outputs": [
    {
     "name": "stdout",
     "output_type": "stream",
     "text": [
      "\n",
      "🔁 Iteration 1:\n",
      "🧠 Critic verdict: APPROVED\n",
      "✅ Answer approved by Critic.\n",
      "\n",
      "📣 Final Answer:\n",
      " Yes, ASUS has demonstrated clear improvements in its ESG (Environmental, Social, and Governance) performance over the past few years, as evidenced by multiple indicators and recognitions outlined in the provided information:\n",
      "\n",
      "1. **Environmental Initiatives and Achievements:**\n",
      "   - ASUS has implemented comprehensive environmental protection activities, such as the “Digital Inclusion Project” to recycle IT equipment and donate to remote schools, reducing waste and bridging the urban-rural digital divide.\n",
      "   - The company actively participates in environmental protection organizations and organizes recycling and donation activities.\n",
      "   - ASUS has adopted the ISO50001 energy management system, using PDCA (Plan-Do-Check-Act) cycles to set and achieve annual energy-saving goals, ensuring continual improvement.\n",
      "   - The headquarters received the LEED Platinum certification from the US Green Building Council (USGBC), reflecting leadership in sustainable building practices.\n",
      "   - ASUS tracks and reports annual greenhouse gas emissions, water consumption, and waste generation, setting reduction targets and optimizing environmental performance year over year.\n",
      "   - The company has committed to using 100% renewable energy in Taiwan-based operations by 2030 and globally by 2035, showing a clear pathway toward net-zero emissions.\n",
      "   - No environmental pollution fines or losses were reported in 2022, indicating effective environmental risk management.\n",
      "\n",
      "2. **Social Responsibility and Governance:**\n",
      "   - ASUS has established policies aligned with the International Bill of Human Rights and the Universal Declaration of Human Rights.\n",
      "   - The company implements reasonable staff welfare measures, including remuneration and leave policies that reflect operational performance.\n",
      "   - ASUS formed dedicated committees (GreenASUS, SERASUS, and ESG Committee) to coordinate sustainability efforts across departments, ensuring integrated and strategic ESG management.\n",
      "   - Risk management platforms and Business Continuity Management (BCM) Committees review sustainability frameworks and social investments, indicating mature governance structures.\n",
      "\n",
      "3. **Recognition and Ratings:**\n",
      "   - ASUS has been recognized as Asia’s Most Socially Responsible Company of the Year.\n",
      "   - It received the highest Institutional Shareholder Services (ISS) ESG Corporate Rating of Prime.\n",
      "   - The company is included in prestigious sustainability indices such as the Morgan Stanley (MSCI) Global Sustainability Index, Financial Times Emerging Markets Sustainability Index, FTSE4Good TIP Taiwan ESG Index, and Taiwan Sustainability Index.\n",
      "   - For multiple consecutive years, ASUS has been listed in Corporate Knights’ Clean200 and received Leadership-level ratings from the Carbon Disclosure Project (CDP) Climate Change Report.\n",
      "   - ASUS earned the Asia Sustainability Reporting Award and was ranked among Asia-Pacific Climate Leaders.\n",
      "\n",
      "4. **Information Security and Risk Management:**\n",
      "   - ASUS has established a dedicated information security unit and appointed a Chief Information Security Officer.\n",
      "   - The company secured ISO 27001 certification, demonstrating strong governance in information security.\n",
      "\n",
      "**Summary:**  \n",
      "ASUS’s ESG performance has improved significantly, as shown by its proactive environmental programs, strong social policies, robust governance structures, and multiple high-profile recognitions and certifications. The company’s commitment to renewable energy, waste reduction, human rights, and risk management reflects a mature and evolving ESG strategy that aligns with global best practices.\n",
      "\n",
      "🧠 HyDE Passage (Generated Query):\n",
      " As of my last update in early 2023, ASUS has indeed shown improvements in its Environmental, Social, and Governance (ESG) performance over the past few years. The company has been actively working on reducing its environmental footprint by implementing energy-efficient and waste-reduction measures across its operations. ASUS has committed to sustainability goals, including reducing greenhouse gas emissions and ensuring that a significant percentage of the energy it uses comes from renewable sources. In terms of social responsibility, ASUS has focused on improving labor practices, increasing diversity and inclusion within its workforce, and enhancing its supply chain accountability. On the governance front, ASUS has strengthened its corporate governance structures, ensuring better board diversity and transparency in its business practices. These efforts have been recognized in various ESG ratings and indices, where ASUS has seen improvements over time, reflecting its commitment to ESG principles. However, for the most current and detailed information, one should refer to the latest sustainability reports published by ASUS and assessments from ESG rating agencies.\n",
      "\n",
      "📄 Retrieved Chunks:\n",
      "\n",
      "--- Chunk 1 ---\n",
      "Governance Report (6) Corporate Social Responsibility herein. \n",
      "2. ASUS fellows will join environmental protection organizations and get involved in \n",
      "environmental protection activities. \n",
      "3. We implement the “Digital Inclusion Project” to recycle IT apparatuses and donate them \n",
      "to schools in remote areas after repair. This not only reduces the waste materials but also \n",
      "helps to fill the urban-rural gap. \n",
      "4. Arrange environmental protection, recycling, and merciful donation activities from time \n",
      "t\n",
      "[Year]: 2022\n",
      "\n",
      "--- Chunk 2 ---\n",
      "corporate sustainability report and ASUS CSR website. \n",
      "(4) We reduced environmental footprint according to the \n",
      "environmental management policy, where our headquarter \n",
      "received LEED platinum certificate from USGBC. \n",
      "Furthermore, annual statistics on greenhouse gas \n",
      "emissions, water consumptions and waste weight for \n",
      "setting reduction targets and gradual optimization of \n",
      "environmental performance every year. \n",
      "4. Social issues \n",
      "(1) Did the Company set relevant management policy and \n",
      "procedures acc\n",
      "[Year]: 2020\n",
      "\n",
      "--- Chunk 3 ---\n",
      "reduction pathways br oken down into three steps: improving energy efficiency, expanding the use of \n",
      "renewable energy, and removing remaining emissions. ASUS has committed to using 100% renewable \n",
      "energy in Taiwan-based operations centers by 2030 and in global operations centers by 2035, and we are \n",
      "making progress in furthering our entire value chain towards net zero. In addition, ASUS was recently \n",
      "honored as Asia’s Most Socially Responsible Company of the Year and received an Institutional \n",
      "S\n",
      "[Year]: 2021\n",
      "\n",
      "--- Chunk 4 ---\n",
      "Resilience \n",
      " \n",
      "ASUS promotes a sustainability strategy with a focus on fundamentals and results by digitizing data, \n",
      "adopting scientific management practices, and optimizing core competencies. We concentrate on four key \n",
      "pillars: Climate Action, Circular Economy, Responsible Manufacturing, and Value Creation. In recent years, \n",
      "we have been recognized for our climate governance and disclosure efforts. For three consecutive years, \n",
      "Corporate Knights has included ASUS in the Clean200. Additionally, \n",
      "[Year]: 2024\n",
      "\n",
      "--- Chunk 5 ---\n",
      "established the GreenASUS Committee and the SERASUS \n",
      "(Social and Environmental Responsibility, SER) Committee. \n",
      "In 2022, the ESG Committee was also formed to further \n",
      "enhance coordination. ESG committee focus on key \n",
      "sustainability issues across the Company’s products, \n",
      "marketing, and design, align sustainability and marketing \n",
      "efforts across departments, and consolidate resources to ensure \n",
      "effective integration and optimal resource allocation. \n",
      "In line with the Sustainable \n",
      "Development Best Pr\n",
      "[Year]: 2024\n",
      "\n",
      "🧠 Critic Verdict:\n",
      " APPROVED\n"
     ]
    }
   ],
   "source": [
    "result = run_self_correcting_hyde_rag(\"Has ASUS shown improvements in ESG performance over the past few years?\")\n",
    "\n",
    "print(\"\\n📣 Final Answer:\\n\", result[\"answer\"])\n",
    "print(\"\\n🧠 HyDE Passage (Generated Query):\\n\", result[\"hyde_passage\"])\n",
    "\n",
    "print(\"\\n📄 Retrieved Chunks:\")\n",
    "for i, doc in enumerate(result[\"retrieved_docs\"]):\n",
    "    print(f\"\\n--- Chunk {i+1} ---\")\n",
    "    print(doc.page_content[:500])  # show the first 500 words to avoid too long\n",
    "    print(f\"[Year]: {doc.metadata.get('year')}\")\n",
    "\n",
    "print(\"\\n🧠 Critic Verdict:\\n\", result[\"verdict\"])"
   ]
  },
  {
   "cell_type": "markdown",
   "id": "8f2c18ef",
   "metadata": {},
   "source": [
    "### What are the company’s main strategic priorities in 2024?"
   ]
  },
  {
   "cell_type": "code",
   "execution_count": 50,
   "id": "28f447db",
   "metadata": {},
   "outputs": [
    {
     "data": {
      "text/plain": [
       "'I don’t have access to specific information about your company’s strategic priorities for 2024. However, if you provide me with the company name or some context, I can help summarize publicly available information or suggest common strategic priorities companies focus on in 2024. Alternatively, you might want to check your company’s official communications, such as annual reports, press releases, or internal strategy documents for the most accurate details.'"
      ]
     },
     "execution_count": 50,
     "metadata": {},
     "output_type": "execute_result"
    }
   ],
   "source": [
    "without_rag(\"What are the company’s main strategic priorities in 2024?\")"
   ]
  },
  {
   "cell_type": "code",
   "execution_count": 84,
   "id": "4af5874f",
   "metadata": {},
   "outputs": [
    {
     "name": "stdout",
     "output_type": "stream",
     "text": [
      "\n",
      "🔁 Iteration 1:\n",
      "🧠 Critic verdict: APPROVED\n",
      "✅ Answer approved by Critic.\n",
      "\n",
      "📣 Final Answer:\n",
      " Based on the provided information and the company’s recent strategic directions, ASUS’s main strategic priorities in 2024 are likely to focus on the following areas:\n",
      "\n",
      "1. **Strengthening Corporate Culture and Organizational Resilience**  \n",
      "   ASUS emphasizes building a stronger corporate culture that leverages collective wisdom and embraces idea meritocracy. This cultural foundation aims to help the company navigate ongoing global economic unpredictability and industry turbulence.\n",
      "\n",
      "2. **Balancing Growth Opportunities with Risk Management**  \n",
      "   The company plans to carefully balance long-term value creation with short-term performance, considering both growth opportunities and risks amid inflation, monetary policy adjustments, and geopolitical conflicts.\n",
      "\n",
      "3. **Product Innovation and Market Expansion in Key Segments**  \n",
      "   - **Computer Systems and Open-Platform Products:** Accelerate product innovation and operational efficiency to achieve growth rates that outperform the industry.  \n",
      "   - **ROG and eSports-related Products:** Target double-digit annual growth by capitalizing on the expanding esports industry and user base, positioning ASUS as a leading player in this segment.  \n",
      "   - **Mobile Phones:** Focus on esports and expert users to establish a strong market position and brand value within this niche.  \n",
      "   - **AIoT (Artificial Intelligence of Things):** Initiate new product projects and market positioning to capture emerging opportunities in the evolving AIoT market.\n",
      "\n",
      "4. **Information Security and Supply Chain Management**  \n",
      "   ASUS is prioritizing information security as a core element of its sustainability goals through 2025. This includes:  \n",
      "   - Enhancing product R&D environmental security.  \n",
      "   - Strengthening supply chain information security management via a collaborative, two-way defense approach.  \n",
      "   - Managing cybersecurity risks through the dedicated Digital Security Office, focusing on internal and external digital security, including supply chain security.\n",
      "\n",
      "5. **Strategic Planning, Technological Innovation, and Operations Management**  \n",
      "   The company is committed to taking “the harder path” by effectively implementing strategic planning and leveraging technological innovation and operational excellence to maintain competitiveness and drive growth.\n",
      "\n",
      "6. **Pursuit of Becoming a Leading Innovative Technology Enterprise**  \n",
      "   ASUS aims to create a ubiquitous, intelligent, and joyful smart life experience for customers, aspiring to be the world’s most admired innovative technology company in the new digital era.\n",
      "\n",
      "---\n",
      "\n",
      "**Summary:**  \n",
      "In 2024, ASUS’s strategic priorities center on strengthening its corporate culture and organizational capabilities, driving innovation and growth in computer systems, esports, mobile, and AIoT markets, enhancing information security across R&D and supply chains, and executing disciplined strategic and operational management to navigate a complex global environment and achieve sustainable growth.\n",
      "\n",
      "🧠 HyDE Passage (Generated Query):\n",
      " As a financial expert, I would need specific information about the company in question to provide a detailed and accurate response regarding its strategic priorities for 2024. However, in a general sense, many companies in 2024 may prioritize strategies such as digital transformation to stay competitive in an increasingly online marketplace, sustainability to meet consumer and regulatory demands for environmentally friendly practices, and supply chain resilience to mitigate disruptions caused by global uncertainties. Additionally, companies might focus on innovation to drive new product development and market expansion, customer experience to enhance loyalty and brand reputation, and talent acquisition and retention to ensure a skilled workforce in a tight labor market. Cost optimization and efficiency improvements are also likely to be key to maintaining profitability in a potentially inflationary economic environment. Lastly, companies may emphasize strengthening cybersecurity measures to protect against the growing threat of cyber attacks. Each company's specific strategic priorities would be tailored to its industry, competitive position, and long-term goals.\n",
      "\n",
      "📄 Retrieved Chunks:\n",
      "\n",
      "--- Chunk 1 ---\n",
      "3\n",
      "3 \n",
      "We foresee that the global economy will be even more unpredictable and still full of variables and \n",
      "challenges in 2023. In response to this industry adversity and upheaval, we will strengthen the foundations \n",
      "of ASUS corporate culture to unite and leverage our collective wisdom, considering both grow th \n",
      "opportunities and risks, and balancing long -term value with short -term performance. In the first half of \n",
      "2023, there will continue to be significant turbulence in the industry. The team \n",
      "[Year]: 2022\n",
      "\n",
      "--- Chunk 2 ---\n",
      "151\n",
      " \n",
      "151 \n",
      " \n",
      "scope covers the Company ’s internal IT core systems and key external services \n",
      "websites and e -commerce systems, and adds verification to Saas smart cloud \n",
      "services. \n",
      "In response to the ever -increasing threats to information security, the R&D process \n",
      "needs to comply with security desig n principles, and the supply chain information \n",
      "security management during the manufacturing stage is also very important. In order \n",
      "to continue providing customers with safer products, the 2025 Su\n",
      "[Year]: 2020\n",
      "\n",
      "--- Chunk 3 ---\n",
      "from inflation, monetary policy adjustment, and geopolitical conflicts. The industry is still full of variables \n",
      "and turmoil, but we believe the transformed ASUS team is thoroughly prepared to mee t these challenges. \n",
      "We are determined to take \"the harder path\" by effectively implementing strategic planning, technological \n",
      "innovation, and operations management. Through this, we aim to create the most ubiquitous, intelligent, \n",
      "heartfelt, and joyful smar t life for everyone in pursuit of becoming \n",
      "[Year]: 2021\n",
      "\n",
      "--- Chunk 4 ---\n",
      "116\n",
      " \n",
      "116 \n",
      "follows. Computer system products will be quickly strengthened for product innovation \n",
      "and operation, looking forward to prospects of operation and planning for positive growth \n",
      "goals, and achieve a growth rate outperforming the industry with the board and open- \n",
      "platform product lines. ROG and all e -sports-related products, along with the expansion \n",
      "of the esports industry and esports user base, become the important long -term growth \n",
      "momentum, the annual growth rate will be targete\n",
      "[Year]: 2021\n",
      "\n",
      "--- Chunk 5 ---\n",
      "159\n",
      " \n",
      "159 \n",
      " \n",
      " (IV) The impact of domestic and international policies and law change on the Company’s \n",
      "finance and the responsive measures: None. \n",
      " \n",
      " (V) The impact of technology change (Including Information Security Management)  and \n",
      "industrial change on the Company’s finance and the responsive measures: \n",
      "ASUS constantly strives to be an integrated 3C solution provider (Computer, \n",
      "Communications, Consumer electronics). Technology change provides the Company \n",
      "with unlimited business opportunity \n",
      "[Year]: 2021\n",
      "\n",
      "🧠 Critic Verdict:\n",
      " APPROVED\n"
     ]
    }
   ],
   "source": [
    "result = run_self_correcting_hyde_rag(\"What are the company’s main strategic priorities in 2024?\")\n",
    "\n",
    "print(\"\\n📣 Final Answer:\\n\", result[\"answer\"])\n",
    "print(\"\\n🧠 HyDE Passage (Generated Query):\\n\", result[\"hyde_passage\"])\n",
    "\n",
    "print(\"\\n📄 Retrieved Chunks:\")\n",
    "for i, doc in enumerate(result[\"retrieved_docs\"]):\n",
    "    print(f\"\\n--- Chunk {i+1} ---\")\n",
    "    print(doc.page_content[:500])  # show the first 500 words to avoid too long\n",
    "    print(f\"[Year]: {doc.metadata.get('year')}\")\n",
    "\n",
    "print(\"\\n🧠 Critic Verdict:\\n\", result[\"verdict\"])"
   ]
  },
  {
   "cell_type": "markdown",
   "id": "a606a974",
   "metadata": {},
   "source": [
    "### How has ASUS addressed risks related to supply chain disruptions?"
   ]
  },
  {
   "cell_type": "code",
   "execution_count": 53,
   "id": "8f3ecb32",
   "metadata": {},
   "outputs": [
    {
     "data": {
      "text/plain": [
       "'ASUS has addressed risks related to supply chain disruptions through several strategic measures:\\n\\n1. **Diversification of Suppliers and Manufacturing Locations:** ASUS has diversified its supplier base and manufacturing facilities across multiple countries to reduce dependency on any single source or region. This helps mitigate risks from geopolitical tensions, natural disasters, or localized disruptions.\\n\\n2. **Inventory Management and Buffer Stocks:** The company maintains strategic inventory levels and buffer stocks of critical components to cushion against short-term supply interruptions.\\n\\n3. **Close Collaboration with Suppliers:** ASUS works closely with its suppliers to improve supply chain visibility and responsiveness. This collaboration enables quicker adjustments to changes in demand or supply conditions.\\n\\n4. **Investment in Supply Chain Technology:** ASUS leverages advanced supply chain management systems and data analytics to enhance forecasting accuracy, monitor risks, and optimize logistics.\\n\\n5. **Flexible Production Planning:** The company employs flexible manufacturing processes that can adapt to component availability and shifting market demands.\\n\\n6. **Risk Assessment and Contingency Planning:** ASUS regularly conducts risk assessments and develops contingency plans to prepare for potential disruptions, ensuring business continuity.\\n\\nBy implementing these strategies, ASUS aims to enhance the resilience and agility of its supply chain, minimizing the impact of disruptions on its operations and customer deliveries.'"
      ]
     },
     "execution_count": 53,
     "metadata": {},
     "output_type": "execute_result"
    }
   ],
   "source": [
    "without_rag(\"How has ASUS addressed risks related to supply chain disruptions?\")"
   ]
  },
  {
   "cell_type": "code",
   "execution_count": 85,
   "id": "9e6f6b0d",
   "metadata": {},
   "outputs": [
    {
     "name": "stdout",
     "output_type": "stream",
     "text": [
      "\n",
      "🔁 Iteration 1:\n",
      "🧠 Critic verdict: APPROVED\n",
      "✅ Answer approved by Critic.\n",
      "\n",
      "📣 Final Answer:\n",
      " ASUS has addressed risks related to supply chain disruptions through a comprehensive, multi-stage risk management and monitoring framework that integrates internal controls, external audits, and ongoing supplier engagement:\n",
      "\n",
      "1. **Supplier Qualification and Certification:**  \n",
      "   - ASUS requires all suppliers to pass a rigorous quality audit before cooperation, ensuring they meet high standards.  \n",
      "   - Suppliers must obtain ISO 9001 (quality management) and ISO 14001 (environmental management) certifications.  \n",
      "   - Suppliers are also required to sign the ASUS Code of Conduct Compliance Declaration and a Statement of Assurance Regarding Prison or Forced Labor, ensuring ethical and legal compliance.\n",
      "\n",
      "2. **Sustained Risk Management Mechanism:**  \n",
      "   - ASUS implements ongoing risk management by requiring suppliers to commit to human rights, health and safety, and environmental standards as a basis for continuous collaboration and order allocation.  \n",
      "   - This mechanism helps manage transaction risks continuously rather than on a one-time basis.\n",
      "\n",
      "3. **Risk-Based Supplier Identification and Auditing:**  \n",
      "   - Suppliers are identified and categorized based on industry features, purchase modes, and geographic relationships to assess risk levels.  \n",
      "   - Higher-risk suppliers undergo on-site audits conducted jointly by an independent third party and ASUS’s internal audit department, based on the Supply Chain Code of Conduct.  \n",
      "   - Audit results are incorporated into the Quarterly Business Review (QBR) reports, which inform management decisions on resource allocation and ongoing cooperation with suppliers.\n",
      "\n",
      "4. **Engagement and Communication Programs:**  \n",
      "   - ASUS holds an annual supply chain plenary session to communicate management systems, requirements, and updates, enhancing supplier management capabilities and alignment.  \n",
      "   - This ongoing engagement fosters transparency and collaboration, helping to identify and mitigate risks proactively.\n",
      "\n",
      "5. **Responsive Strategies to External Risks:**  \n",
      "   - ASUS monitors external factors such as exchange rate fluctuations and implements supply chain management strategies to balance exchange rate risks and cost fluctuations, thereby reducing financial risks related to supply chain disruptions.\n",
      "\n",
      "Overall, ASUS’s approach combines strict supplier qualification, continuous risk monitoring, targeted audits, active supplier engagement, and responsive financial strategies to effectively mitigate and manage risks related to supply chain disruptions.\n",
      "\n",
      "🧠 HyDE Passage (Generated Query):\n",
      " As a financial expert, I can provide an overview of the strategies that ASUS, like many technology companies, may employ to address risks related to supply chain disruptions. ASUS has likely taken a multi-faceted approach to mitigate these risks. This approach could include diversifying its supplier base to avoid over-reliance on a single source, which can be critical in circumventing regional disruptions. They may also maintain strategic inventory reserves to buffer against short-term supply shocks. Additionally, ASUS could invest in supply chain visibility tools to monitor and manage supply chain activities proactively, allowing for quicker responses to potential disruptions. Collaborating closely with suppliers to ensure contingency planning and capacity flexibility is another common strategy. Furthermore, ASUS might explore nearshoring or reshoring some of its manufacturing operations to reduce transit times and dependency on distant suppliers. Lastly, the company could engage in long-term contracts or partnerships to secure critical components in advance, especially for those that are known to have limited suppliers or are at risk of shortages. It's important to note that specific actions taken by ASUS would depend on their unique circumstances and strategic decisions, and the company's actual measures may vary.\n",
      "\n",
      "📄 Retrieved Chunks:\n",
      "\n",
      "--- Chunk 1 ---\n",
      "defined different countermeasures to be taken by the suppliers, ranging from the ISO \n",
      "under the PDCA framework constructed by the organization internally to \n",
      "international organizations attended by the Company externally to integrate external \n",
      "resources to control and manage the risk jointly. \n",
      " \n",
      "The ASUS supply chain management operates in three stages. All the suppliers who \n",
      "are qualified to cooperate with ASUS must pass the quality audit of new supplies in \n",
      "the first stage, we also acquired th\n",
      "[Year]: 2021\n",
      "\n",
      "--- Chunk 2 ---\n",
      "as the basis for continuous collaboration and order allocation. \n",
      "To monitor the ongoing risk management performance of the supply chain, ASUS \n",
      "carries out identification of suppliers based on the features of the industries in the \n",
      "supply chain, purchase modes, and geographic relationships. Management measures \n",
      "are determined depending on the level of the risk. For the suppliers identified as \n",
      "higher risk, an independent third party will work together with our internal audit \n",
      "department to conduc\n",
      "[Year]: 2024\n",
      "\n",
      "--- Chunk 3 ---\n",
      "To monitor the ongoing risk management performance of the supply chain, ASUS \n",
      "carries out identification of suppliers based on the features of the industries in the \n",
      "supply chain, purchase modes, and geographic relationships. Management \n",
      "measures are determined depending on the level of the risk. For the suppliers \n",
      "identified as higher ri sk, an independent third party will work together with our \n",
      "internal audit department to conduct on -site audit according to the Supply Chain \n",
      "Code of Conduct.\n",
      "[Year]: 2020\n",
      "\n",
      "--- Chunk 4 ---\n",
      "is included in the Q3 quarterly business review (QBR) as the basis for continuous \n",
      "collaboration and order allocation. \n",
      "To monitor the ongoing risk management performance of the supply chain, ASUS \n",
      "carries out identification of suppliers based on the features of the industries in the \n",
      "supply chain, purchase modes, and geographic relationships. Management measures \n",
      "are determined depending on the level of the risk. For the suppliers identified as \n",
      "higher risk, an independent third party will work\n",
      "[Year]: 2022\n",
      "\n",
      "--- Chunk 5 ---\n",
      "laptops, and content-creation laptops, affecting margins. \n",
      " \n",
      "(3) Responsive strategies: \n",
      "ASUS will closely watch the change of the exchange rate, implement supply chain \n",
      "management adequately, and balance the exchange rate risk and cost fluctuation \n",
      "appropriately. \n",
      " \n",
      "Internal conditions \n",
      "(1) Advantages \n",
      "a. Stable financing with sufficient funds. \n",
      "b. Develop an excellent pool of talent, manage the R&D direction and schedule \n",
      "effectively, and lead the industry with technical capacity. \n",
      "c. The over\n",
      "[Year]: 2023\n",
      "\n",
      "🧠 Critic Verdict:\n",
      " APPROVED\n"
     ]
    }
   ],
   "source": [
    "result = run_self_correcting_hyde_rag(\"How has ASUS addressed risks related to supply chain disruptions?\")\n",
    "\n",
    "print(\"\\n📣 Final Answer:\\n\", result[\"answer\"])\n",
    "print(\"\\n🧠 HyDE Passage (Generated Query):\\n\", result[\"hyde_passage\"])\n",
    "\n",
    "print(\"\\n📄 Retrieved Chunks:\")\n",
    "for i, doc in enumerate(result[\"retrieved_docs\"]):\n",
    "    print(f\"\\n--- Chunk {i+1} ---\")\n",
    "    print(doc.page_content[:500])  # show the first 500 words to avoid too long\n",
    "    print(f\"[Year]: {doc.metadata.get('year')}\")\n",
    "\n",
    "print(\"\\n🧠 Critic Verdict:\\n\", result[\"verdict\"])"
   ]
  },
  {
   "cell_type": "markdown",
   "id": "aca225a0",
   "metadata": {},
   "source": [
    "## Domain-Specific"
   ]
  },
  {
   "cell_type": "markdown",
   "id": "97dd28b1",
   "metadata": {},
   "source": [
    "Such queries test whether retrieval can capture non-obvious, section-specific content, and whether generation can faithfully preserve that structure and intent.\n",
    "\n",
    "- According to ASUS’s 2023 annual report, what are the principles guiding board independence?\n",
    "- Does ASUS comply with Taiwan’s Corporate Governance 3.0 policy?\n",
    "- What are ASUS’s carbon neutrality goals and timelines mentioned in recent reports?"
   ]
  },
  {
   "cell_type": "markdown",
   "id": "3ff8c3a0",
   "metadata": {},
   "source": [
    "### According to ASUS’s 2023 annual report, what are the principles guiding board independence?"
   ]
  },
  {
   "cell_type": "code",
   "execution_count": 59,
   "id": "118a5bcf",
   "metadata": {},
   "outputs": [
    {
     "data": {
      "text/plain": [
       "'According to ASUS’s 2023 annual report, the principles guiding board independence include ensuring that independent directors have no material or pecuniary relationship with the company, its subsidiaries, or management that could interfere with the exercise of independent judgment. The board emphasizes the importance of having a sufficient number of independent directors to provide unbiased oversight and to safeguard the interests of all shareholders. Independent directors are expected to contribute objective perspectives, monitor management performance, and uphold corporate governance standards in line with regulatory requirements and best practices.'"
      ]
     },
     "execution_count": 59,
     "metadata": {},
     "output_type": "execute_result"
    }
   ],
   "source": [
    "without_rag(\"According to ASUS’s 2023 annual report, what are the principles guiding board independence?\")"
   ]
  },
  {
   "cell_type": "code",
   "execution_count": 90,
   "id": "107de9f8",
   "metadata": {},
   "outputs": [
    {
     "name": "stdout",
     "output_type": "stream",
     "text": [
      "\n",
      "🔁 Iteration 1:\n",
      "🧠 Critic verdict: APPROVED\n",
      "✅ Answer approved by Critic.\n",
      "\n",
      "📣 Final Answer:\n",
      " According to ASUS’s 2023 annual report, the principles guiding board independence include:\n",
      "\n",
      "1. **Adherence to Corporate Governance Best-Practice Principles:** ASUS has defined its corporate governance best-practice principles, which are publicly available in the “important internal rules” section on the corporate governance page of the Company’s investor relations website.\n",
      "\n",
      "2. **Execution of Rights and Integrity:** The Company upholds integrity and maintains long-term cooperation with investors, suppliers, and other stakeholders, ensuring transparent and fair relationships.\n",
      "\n",
      "3. **Director Liability Insurance:** ASUS has insured liability insurance for all directors, which supports independent decision-making by protecting directors from personal liability risks.\n",
      "\n",
      "4. **Pursuit of Study for Directors:** The Company encourages continuous education and disclosure related to directors, which helps maintain an informed and independent board.\n",
      "\n",
      "5. **Accountant Independence Assessment:** The Company ensures that its designated accountants are independent, with no direct or indirect financial interest or financing/guarantee relationships with the Company or its directors/supervisors, supporting overall governance independence.\n",
      "\n",
      "In summary, ASUS’s board independence is guided by clearly defined best-practice principles, transparency, protection of directors through liability insurance, continuous director education, and ensuring independence of external auditors, all aimed at maintaining an effective and independent board.\n",
      "\n",
      "🧠 HyDE Passage (Generated Query):\n",
      " As a financial expert, I must clarify that I do not have access to real-time or proprietary databases, and my knowledge is based on information available up to my last update in early 2023. However, I can provide a general framework for how companies like ASUS typically outline principles guiding board independence in their annual reports.\n",
      "\n",
      "In a typical annual report, ASUS would likely state that the principles guiding board independence are designed to ensure that the board can make impartial and objective decisions in the best interests of the company and its shareholders. These principles would usually include criteria such as a majority of the board being comprised of independent directors who have no material relationship with the company, either directly or as a partner, shareholder, or officer of an organization that has a relationship with the company.\n",
      "\n",
      "The board's independence would be further ensured by the establishment of independent committees, such as an audit committee, a nomination committee, and a compensation committee, each with a charter that defines its roles and responsibilities. These committees would be tasked with overseeing critical areas like financial reporting, executive nomination, and compensation practices, respectively, and would be expected to operate free from undue influence from company management.\n",
      "\n",
      "Additionally, the principles would likely address the need for regular executive sessions of independent directors without the presence of management, as well as the establishment of processes for directors to receive orientation and continuing education to maintain the skills and knowledge necessary for effective oversight.\n",
      "\n",
      "For the exact principles guiding board independence as stated in ASUS's 2023 annual report, one would need to review the actual document, which is typically available on the company's investor relations website or through financial information platforms that provide corporate filings.\n",
      "\n",
      "📄 Retrieved Chunks:\n",
      "\n",
      "--- Chunk 1 ---\n",
      "90\n",
      " \n",
      "90 \n",
      " (VIII) Approach to search the corporate governance best -practice principles defined by the \n",
      "Company and related regulations: \n",
      "The Company has defined its “corporate governance best -practice principles”.  \n",
      "Please see the “important internal rules” in the “corporate governance” section on the \n",
      "Company’s investor relation website: http://www.asus.com/tw/Investor/。 \n",
      " \n",
      "(VIIII) Other important information that helps understand corporate governance: \n",
      "1. Execution of Rights for Investor Rela\n",
      "[Year]: 2020\n",
      "\n",
      "--- Chunk 2 ---\n",
      "94\n",
      " \n",
      "94 \n",
      " (VIII) Approach to search the corporate governance best-practice principles defined by the \n",
      "Company and related regulations: \n",
      "The Company has defined its “corporate governance best -practice principles”.  \n",
      "Please see the “important internal rules” in the “corporate governance” section on the \n",
      "Company’s investor relation website: http://www.asus.com/tw/Investor/。 \n",
      " \n",
      "(VIIII) Other important information that helps understand corporate governance: \n",
      "1. Execution of Rights for Investor Relat\n",
      "[Year]: 2021\n",
      "\n",
      "--- Chunk 3 ---\n",
      "104\n",
      " \n",
      "104 \n",
      "(IX) Approach to search the corporate governance best -practice principles defined by the \n",
      "Company and related regulations: \n",
      "The Company has defined its “corporate governance best-practice principles”.  Please \n",
      "see the “important internal rules” in the “corporate gov ernance” section on the \n",
      "Company’s investor relation website: http://www.asus.com/tw/Investor/. \n",
      " \n",
      "(X) Other important information that helps understand corporate governance: \n",
      "1. Execution of Rights for Investor Relations\n",
      "[Year]: 2022\n",
      "\n",
      "--- Chunk 4 ---\n",
      "105\n",
      " \n",
      "105 \n",
      "(X) App roach to search the corporate governance best -practice principles defined by the \n",
      "Company and related regulations: \n",
      "The Company has defined its “corporate governance best-practice principles”.  Please \n",
      "see the “important internal rules” in the “corporate gove rnance” section on the \n",
      "Company’s investor relation website: http://www.asus.com/tw/Investor/. \n",
      " \n",
      "(XI) Other important information that helps understand corporate governance: \n",
      "1. Execution of Rights for Investor Relation\n",
      "[Year]: 2023\n",
      "\n",
      "--- Chunk 5 ---\n",
      "issued by the CG Center of Taiwan Stock Exchange \n",
      "Corporation, and shall make available the prioritized \n",
      "enhanced measures for the matters that have not been \n",
      "improved.  \n",
      "V  ASUS particularly disclosed the information on our website to meet the \n",
      "corporate governance requirements. The Company will make \n",
      "improvement progressively according to the plan to be made for the \n",
      "matters that have not been improved. \n",
      "Compliant with the Code of \n",
      "“the Corporate Governance Best-Practice Principles for \n",
      "TWSE/T\n",
      "[Year]: 2022\n",
      "\n",
      "🧠 Critic Verdict:\n",
      " APPROVED\n"
     ]
    }
   ],
   "source": [
    "result = run_self_correcting_hyde_rag(\"According to ASUS’s 2023 annual report, what are the principles guiding board independence?\")\n",
    "\n",
    "print(\"\\n📣 Final Answer:\\n\", result[\"answer\"])\n",
    "print(\"\\n🧠 HyDE Passage (Generated Query):\\n\", result[\"hyde_passage\"])\n",
    "\n",
    "print(\"\\n📄 Retrieved Chunks:\")\n",
    "for i, doc in enumerate(result[\"retrieved_docs\"]):\n",
    "    print(f\"\\n--- Chunk {i+1} ---\")\n",
    "    print(doc.page_content[:500])  # show the first 500 words to avoid too long\n",
    "    print(f\"[Year]: {doc.metadata.get('year')}\")\n",
    "\n",
    "print(\"\\n🧠 Critic Verdict:\\n\", result[\"verdict\"])"
   ]
  },
  {
   "cell_type": "markdown",
   "id": "8f645f5e",
   "metadata": {},
   "source": [
    "### Does ASUS comply with Taiwan’s Corporate Governance 3.0 policy?"
   ]
  },
  {
   "cell_type": "code",
   "execution_count": 61,
   "id": "8cf4da92",
   "metadata": {},
   "outputs": [
    {
     "data": {
      "text/plain": [
       "\"ASUS, as a major Taiwanese publicly listed company, generally aligns its corporate governance practices with Taiwan's regulatory framework, including the Corporate Governance 3.0 policy promoted by Taiwan's Financial Supervisory Commission (FSC). \\n\\nTaiwan's Corporate Governance 3.0 policy aims to enhance transparency, strengthen board independence, improve shareholder rights, and promote sustainable business practices among listed companies. ASUS typically publishes annual corporate governance reports detailing its compliance with these standards, such as board composition, audit committee functions, risk management, and disclosure practices.\\n\\nFor the most accurate and up-to-date information on ASUS's compliance with Corporate Governance 3.0, you can review their latest corporate governance report or disclosures available on their official website or through Taiwan Stock Exchange filings. These documents provide detailed insights into how ASUS implements governance policies in line with Taiwan's regulatory requirements.\""
      ]
     },
     "execution_count": 61,
     "metadata": {},
     "output_type": "execute_result"
    }
   ],
   "source": [
    "without_rag(\"Does ASUS comply with Taiwan's Corporate Governace 3.0 policy?\")"
   ]
  },
  {
   "cell_type": "code",
   "execution_count": 81,
   "id": "c7f29f6b",
   "metadata": {},
   "outputs": [
    {
     "name": "stdout",
     "output_type": "stream",
     "text": [
      "\n",
      "🔁 Iteration 1:\n",
      "🧠 Critic verdict: APPROVED\n",
      "✅ Answer approved by Critic.\n",
      "📣 Final Answer:\n",
      " Based on the provided information, ASUS demonstrates compliance with Taiwan's Corporate Governance 3.0 policy as follows:\n",
      "\n",
      "1. **Defined Corporate Governance Best-Practice Principles**: ASUS has clearly defined its corporate governance best-practice principles and makes these available in the \"corporate governance\" section of its investor relations website. This transparency aligns with the requirements of Corporate Governance 3.0, which emphasizes clear governance frameworks and disclosure.\n",
      "\n",
      "2. **Execution of Rights and Stakeholder Relationships**: ASUS upholds integrity and maintains long-term cooperation with investors, suppliers, and other stakeholders. This reflects the policy’s focus on protecting stakeholder rights and fostering sustainable relationships.\n",
      "\n",
      "3. **Director Development and Liability Insurance**: The company pursues ongoing study and development for its directors and has insured liability insurance for all directors. These practices support the Corporate Governance 3.0 emphasis on director competence, accountability, and risk management.\n",
      "\n",
      "4. **Progressive Improvement and Compliance**: ASUS acknowledges that governance matters are gradually implemented considering the company’s situation and regulations. It commits to describing improvements based on evaluations by the Corporate Governance Center of the Taiwan Stock Exchange and prioritizes enhancements for unresolved issues. This shows adherence to the policy’s continuous improvement and compliance monitoring principles.\n",
      "\n",
      "5. **Compliance with the Code of Corporate Governance Best-Practice Principles for TWSE/TPEx Listed Companies**: ASUS explicitly states compliance with this code, which is a core component of Taiwan’s Corporate Governance 3.0 framework.\n",
      "\n",
      "**Conclusion**: ASUS complies with Taiwan’s Corporate Governance 3.0 policy by establishing and disclosing governance principles, protecting stakeholder rights, ensuring director accountability and development, committing to continuous improvement, and adhering to the relevant regulatory codes.\n",
      "\n",
      "🧠 HyDE passage:\n",
      " As of my last update in early 2023, ASUS, formally known as ASUSTeK Computer Inc., is a multinational company headquartered in Taiwan that is subject to Taiwanese regulations, including the Corporate Governance 3.0 - Sustainable Development Roadmap, issued by the Taiwan Stock Exchange (TWSE). This policy is designed to enhance the corporate governance framework within Taiwanese companies, focusing on sustainability, social responsibility, and improved management practices.\n",
      "\n",
      "ASUS has historically been committed to strong corporate governance and has taken steps to align with various corporate governance standards. The company publishes annual corporate social responsibility (CSR) reports and sustainability reports that detail its efforts in environmental stewardship, social contribution, and governance practices. These reports often include information on how ASUS is complying with local regulations, including those related to corporate governance.\n",
      "\n",
      "To determine ASUS's current compliance with Taiwan's Corporate Governance 3.0 policy, one would need to review the latest disclosures from the company, such as the most recent CSR or sustainability report, filings with the TWSE, and any relevant news releases or statements from ASUS. These documents would provide insights into how ASUS is meeting the policy's requirements, which include board structure and diversity, shareholder rights, stakeholder engagement, and sustainability initiatives. It is important to note that compliance can evolve over time as both the regulations and the company's practices change, so for the most up-to-date information, direct consultation of ASUS's latest reports and official disclosures would be necessary.\n",
      "\n",
      "📄 Retrieved Chunks:\n",
      "\n",
      "--- Chunk 1 ---\n",
      "94\n",
      " \n",
      "94 \n",
      " (VIII) Approach to search the corporate governance best-practice principles defined by the \n",
      "Company and related regulations: \n",
      "The Company has defined its “corporate governance best -practice principles”.  \n",
      "Please see the “important internal rules” in the “corporate governance” section on the \n",
      "Company’s investor relation website: http://www.asus.com/tw/Investor/。 \n",
      " \n",
      "(VIIII) Other important information that helps understand corporate governance: \n",
      "1. Execution of Rights for Investor Relat\n",
      "[Year]: 2021\n",
      "\n",
      "--- Chunk 2 ---\n",
      "104\n",
      " \n",
      "104 \n",
      "(IX) Approach to search the corporate governance best -practice principles defined by the \n",
      "Company and related regulations: \n",
      "The Company has defined its “corporate governance best-practice principles”.  Please \n",
      "see the “important internal rules” in the “corporate gov ernance” section on the \n",
      "Company’s investor relation website: http://www.asus.com/tw/Investor/. \n",
      " \n",
      "(X) Other important information that helps understand corporate governance: \n",
      "1. Execution of Rights for Investor Relations\n",
      "[Year]: 2022\n",
      "\n",
      "--- Chunk 3 ---\n",
      "judgement. \n",
      "(8) Other company: The governance matters are gradually \n",
      "implemented, taking consideration of the current situation of the \n",
      "Company and regulations.  \n",
      "9. The Company shall describe the improvements with \n",
      "reference to the corporate governance evaluation results \n",
      "issued by the CG Center of Taiwan Stock Exchange \n",
      "Corporation, and shall make available the prioritized \n",
      "enhanced measures for the matters that have not  been \n",
      "improved.  \n",
      "V  ASUS particularly disclosed the information on our \n",
      "[Year]: 2021\n",
      "\n",
      "--- Chunk 4 ---\n",
      "developing their capability in decision -making and \n",
      "judgement. \n",
      "(8) Other company: The governance matters are gradually \n",
      "implemented, taking consideration of the current situation \n",
      "of the Company and regulations.  \n",
      "9. The Company  shall describe the improvements with \n",
      "reference to the corporate governance evaluation results \n",
      "issued by the CG Center of Taiwan Stock Exchange \n",
      "Corporation, and shall make available the prioritized \n",
      "enhanced measures for the matters that have not been \n",
      "improved.  \n",
      "V\n",
      "[Year]: 2020\n",
      "\n",
      "--- Chunk 5 ---\n",
      "105\n",
      " \n",
      "105 \n",
      "(X) App roach to search the corporate governance best -practice principles defined by the \n",
      "Company and related regulations: \n",
      "The Company has defined its “corporate governance best-practice principles”.  Please \n",
      "see the “important internal rules” in the “corporate gove rnance” section on the \n",
      "Company’s investor relation website: http://www.asus.com/tw/Investor/. \n",
      " \n",
      "(XI) Other important information that helps understand corporate governance: \n",
      "1. Execution of Rights for Investor Relation\n",
      "[Year]: 2023\n"
     ]
    }
   ],
   "source": [
    "result = run_self_correcting_hyde_rag(\"Does ASUS comply with Taiwan's Corporate Governace 3.0 policy?\")\n",
    "print(\"📣 Final Answer:\\n\", result[\"answer\"])\n",
    "print(\"\\n🧠 HyDE passage:\\n\", result[\"hyde_passage\"])\n",
    "\n",
    "print(\"\\n📄 Retrieved Chunks:\")\n",
    "for i, doc in enumerate(result[\"retrieved_docs\"]):\n",
    "    print(f\"\\n--- Chunk {i+1} ---\")\n",
    "    print(doc.page_content[:500])\n",
    "    print(f\"[Year]: {doc.metadata.get('year')}\")"
   ]
  },
  {
   "cell_type": "markdown",
   "id": "4513a761",
   "metadata": {},
   "source": [
    "### What are ASUS’s carbon neutrality goals and timelines mentioned in recent reports?"
   ]
  },
  {
   "cell_type": "code",
   "execution_count": null,
   "id": "90f2dca2",
   "metadata": {},
   "outputs": [
    {
     "data": {
      "text/plain": [
       "'ASUS has set clear carbon neutrality goals as part of its sustainability initiatives. According to recent reports, ASUS aims to achieve **carbon neutrality by 2050**. The company is focusing on reducing greenhouse gas emissions across its operations and supply chain, increasing energy efficiency, and utilizing renewable energy sources. Additionally, ASUS is working on enhancing product sustainability through eco-friendly designs and materials to support its long-term environmental objectives.\\n\\nIf you need more detailed information or specific milestones ASUS has announced, please let me know!'"
      ]
     },
     "execution_count": 63,
     "metadata": {},
     "output_type": "execute_result"
    }
   ],
   "source": [
    "without_rag(\"What are ASUS’s carbon neutrality goals and timelines mentioned in recent reports?\")"
   ]
  },
  {
   "cell_type": "code",
   "execution_count": 82,
   "id": "20657212",
   "metadata": {},
   "outputs": [
    {
     "name": "stdout",
     "output_type": "stream",
     "text": [
      "\n",
      "🔁 Iteration 1:\n",
      "🧠 Critic verdict: APPROVED\n",
      "✅ Answer approved by Critic.\n",
      "\n",
      "📣 Final Answer:\n",
      " ASUS’s carbon neutrality goals and timelines, as outlined in recent reports, are as follows:\n",
      "\n",
      "1. **Operations:**\n",
      "   - Reduce carbon emissions from global operations by **50% by 2030** (using 2020 as the base year).\n",
      "   - Achieve **100% renewable energy use in Taiwan-based operations by 2030**.\n",
      "   - Achieve **100% renewable energy use in global operations by 2035**.\n",
      "\n",
      "2. **Supply Chain:**\n",
      "   - Reduce the carbon emission intensity of key suppliers by **30% by 2025**.\n",
      "\n",
      "3. **Products:**\n",
      "   - Ensure that the energy efficiency of key products each year is at least **30% better than the Energy Star standard**.\n",
      "   - Incorporate low-carbon processes, improve energy efficiency, and select environmentally friendly materials starting from the product design phase.\n",
      "   - Achieve **carbon neutrality for products** by offsetting emissions with high-quality natural carbon credits.\n",
      "\n",
      "4. **Overall Strategy:**\n",
      "   - ASUS adopts a three-phase approach to reach net zero: improving energy efficiency, expanding renewable energy use, and investing in innovative technologies to eliminate remaining emissions.\n",
      "   - The company is committed to pushing its entire value chain toward net zero emissions.\n",
      "\n",
      "These goals reflect ASUS’s commitment to mitigating climate risks and advancing sustainability across its operations, supply chain, and product portfolio within the next decade and beyond.\n",
      "\n",
      "🧠 HyDE Passage (Generated Query):\n",
      " As of my last update in early 2023, ASUS, the Taiwanese multinational computer and phone hardware and electronics company, has been actively working towards reducing its carbon footprint. ASUS announced its commitment to achieving carbon neutrality by 2050, aligning with the global efforts to combat climate change. The company has laid out a comprehensive strategy to reach this goal, which includes reducing carbon emissions from its operations and supply chain, increasing energy efficiency, and investing in renewable energy sources. ASUS has also set interim targets to track its progress, such as aiming to reduce its scope 1 and scope 2 greenhouse gas emissions by 50% by 2030 compared to the 2016 baseline. Additionally, ASUS plans to have all of its operational sites worldwide powered by 100% renewable energy by 2035. To ensure transparency and accountability, ASUS is likely to report its progress in annual sustainability reports and may engage in third-party verifications of its carbon footprint data.\n",
      "\n",
      "📄 Retrieved Chunks:\n",
      "\n",
      "--- Chunk 1 ---\n",
      "73\n",
      " \n",
      "73 \n",
      "travel are also inventoried continuously. \n",
      "Objectives for \n",
      "managing climate \n",
      "change-related risks \n",
      "and opportunities by \n",
      "the organization, and \n",
      "the deviation between \n",
      "the performance and \n",
      "objectives \n",
      "ASUS’s current carbon emissions reduction baseline is \n",
      "unable to truly reflect the long -term strategy of mitigating \n",
      "climate risks due to changes in the structure of power \n",
      "consumption. Based on the analysis results of the \n",
      "simulations and the science -based emissions reduction \n",
      "pathways, \n",
      "[Year]: 2020\n",
      "\n",
      "--- Chunk 2 ---\n",
      "77\n",
      " \n",
      "77 \n",
      "by the organization, and \n",
      "the deviation between \n",
      "the performance and \n",
      "objectives \n",
      "on the analysis results of the simulations and the science-based \n",
      "emissions reduction pathways, new climate action goals are \n",
      "established, with 2020 as the base year: \n",
      "- Operation: Reduce 50% of carbon emissions from ASUS \n",
      "global operations centers by 2030. \n",
      "Use 100% renewable energy in Taiwan-based operations \n",
      "centers by 2030, and in global operations centers by 2035. \n",
      "- Supply chain: Ensure that key supp\n",
      "[Year]: 2021\n",
      "\n",
      "--- Chunk 3 ---\n",
      "reduction pathways br oken down into three steps: improving energy efficiency, expanding the use of \n",
      "renewable energy, and removing remaining emissions. ASUS has committed to using 100% renewable \n",
      "energy in Taiwan-based operations centers by 2030 and in global operations centers by 2035, and we are \n",
      "making progress in furthering our entire value chain towards net zero. In addition, ASUS was recently \n",
      "honored as Asia’s Most Socially Responsible Company of the Year and received an Institutional \n",
      "S\n",
      "[Year]: 2021\n",
      "\n",
      "--- Chunk 4 ---\n",
      "percentage required by Energy Star \n",
      "− Supply chain: Extent of reduction of carbon emissions \n",
      "intensity. \n",
      "Disclose Scope 1, 2 and \n",
      "3 greenhouse gas \n",
      "emissions and related \n",
      "risks. \n",
      "Carry out greenhouse gas inventory every year. For the \n",
      "inventory information of the past years, please refer to the \n",
      "ASUS Sustainability Report and official website. \n",
      "Objectives for managing \n",
      "climate change-related \n",
      "risks and opportunities \n",
      "by the organization, and \n",
      "the deviation between \n",
      "the performance and \n",
      "objective\n",
      "[Year]: 2022\n",
      "\n",
      "--- Chunk 5 ---\n",
      "standard carbon reduction plans. Starting from the product design phase, we str ive to \n",
      "minimize carbon emissions by incorporating low -carbon processes, improving energy \n",
      "efficiency, and selecting environmentally friendly materials. Ultimately, by offsetting \n",
      "carbon emissions with high-quality natural carbon credits, we achieve carbon neutrality for \n",
      "our products, marking a significant milestone in ASUS's sustainability journey. \n",
      " \n",
      "The specific products in the recent year: \n",
      "R&D planned in 2024:\n",
      "[Year]: 2023\n",
      "\n",
      "🧠 Critic Verdict:\n",
      " APPROVED\n"
     ]
    }
   ],
   "source": [
    "result = run_self_correcting_hyde_rag(\"What are ASUS’s carbon neutrality goals and timelines mentioned in recent reports?\")\n",
    "\n",
    "print(\"\\n📣 Final Answer:\\n\", result[\"answer\"])\n",
    "print(\"\\n🧠 HyDE Passage (Generated Query):\\n\", result[\"hyde_passage\"])\n",
    "\n",
    "print(\"\\n📄 Retrieved Chunks:\")\n",
    "for i, doc in enumerate(result[\"retrieved_docs\"]):\n",
    "    print(f\"\\n--- Chunk {i+1} ---\")\n",
    "    print(doc.page_content[:500])  # show the first 500 words to avoid too long\n",
    "    print(f\"[Year]: {doc.metadata.get('year')}\")\n",
    "\n",
    "print(\"\\n🧠 Critic Verdict:\\n\", result[\"verdict\"])"
   ]
  },
  {
   "cell_type": "markdown",
   "id": "e6caafb8",
   "metadata": {},
   "source": [
    "# Evaluation\n"
   ]
  },
  {
   "cell_type": "markdown",
   "id": "052346ef",
   "metadata": {},
   "source": [
    "## Easy\n",
    "When using a standalone GPT-4.1, the model generally responds cautiously to these factual queries—often stating that it does not have access to up-to-date or company-specific financial data, instead of hallucinating an answer. This behavior is preferred over guessing, but it also limits usability for tasks requiring grounded knowledge.\n",
    "\n",
    "In contrast, the RAG-based system was able to generate accurate and context-supported answers for all three questions by retrieving relevant excerpts from the annual reports.\n",
    "\n",
    "Notably, the first question about net profit in 2023 proved to be the most challenging. ASUS's 2024 annual report does not explicitly state the 2023 profit figure—instead, it only mentions that 2024’s net profit increased by 97% compared to the previous year. This requires the model to infer the 2023 value through basic reverse calculation.\n",
    "\n",
    "During the first iteration, the critic LLM correctly flagged that the answer was missing a specific figure. In the second iteration, with that feedback incorporated into a revised HyDE prompt, the system successfully retrieved and computed the correct net profit for 2023.\n",
    "\n",
    "This demonstrates the strength of combining LLM reasoning (via HyDE) with retrieved factual context, and shows how a critic loop helps guide the model toward grounded answers."
   ]
  },
  {
   "cell_type": "markdown",
   "id": "758c5a55",
   "metadata": {},
   "source": [
    "## Ambiguous\n",
    "For more open-ended questions—such as those about ESG performance or strategy—standalone LLMs tend to give broad, generic overviews. These answers are not incorrect, but they often lack specificity or rely on assumptions. In some cases, the model may even suggest the user consult external sources for more details.\n",
    "\n",
    "By contrast, the RAG-based system can retrieve specific, bullet-pointed summaries from the annual reports, resulting in more structured and fact-grounded answers. This highlights RAG’s advantage in handling vague but document-covered queries, by anchoring generation to actual corporate disclosures."
   ]
  },
  {
   "cell_type": "markdown",
   "id": "3e4c52e2",
   "metadata": {},
   "source": [
    "## Domain-Specific\n",
    "The domain-specific questions focus on governance frameworks, policy compliance, and sustainability commitments—topics that are typically covered in specific sections of corporate reports, and unlikely to be included in LLM pretraining data.\n",
    "\n",
    "Standalone LLMs tend to respond vaguely to these queries, offering general definitions or unrelated information. For instance, when asked about Taiwan’s Corporate Governance 3.0 policy, the LLM may explain what corporate governance is in general, but fail to connect it to ASUS or the actual regulatory context.\n",
    "\n",
    "In contrast, the RAG-based system successfully retrieves and assembles relevant information from the reports—such as ASUS’s listed principles for board independence, statements of policy alignment, and detailed carbon neutrality goals and timelines—demonstrating a clear advantage in handling policy-anchored, document-grounded questions."
   ]
  },
  {
   "cell_type": "markdown",
   "id": "ac67d806",
   "metadata": {},
   "source": [
    "# Future Improvement"
   ]
  },
  {
   "cell_type": "markdown",
   "id": "a3140bd0",
   "metadata": {},
   "source": [
    "## 1. Replace InMemoryStore with a persistent backend\n",
    "The current implementation stores original chunks in an InMemoryStore, which is volatile and disappears once the session ends. While this was sufficient for experimentation, replacing it with a persistent solution—such as a JSON/SQLite store, Redis, or a vector database that supports metadata retrieval—would improve robustness and scalability.\n",
    "## 2. Refactor into a modular LangGraph workflow\n",
    "The current RAG system follows a clear, sequential flow: HyDE → Retrieval → Generation → Critic → Loop. This structure makes it well-suited for LangGraph, which would allow the entire pipeline to be modularized into nodes and edges. This would make future extensions—such as adding a confidence scorer, evaluator, or user feedback step—much easier to integrate and maintain.\n",
    "## 3. Expand the dataset across more years or data sources\n",
    "The current knowledge base includes five years of ASUS annual reports (2020–2024). Including additional years, quarterly reports, or related press releases could increase retrieval coverage and improve answer quality for trend-related or multi-year analysis questions.\n",
    "\n"
   ]
  },
  {
   "cell_type": "markdown",
   "id": "28ec7415",
   "metadata": {},
   "source": [
    "# Reference\n",
    "Oshin, M. and Campos, N. (2025) Learning Langchain: Building AI and LLM applications with Langchain and Langgraph, O’Reilly. Sebastopol, CA: O’Reilly Media, Inc. Available at: https://learning.oreilly.com/library/view/learning-langchain/9781098167271/ (Accessed: 15 May 2025). "
   ]
  }
 ],
 "metadata": {
  "kernelspec": {
   "display_name": "Python 3",
   "language": "python",
   "name": "python3"
  },
  "language_info": {
   "codemirror_mode": {
    "name": "ipython",
    "version": 3
   },
   "file_extension": ".py",
   "mimetype": "text/x-python",
   "name": "python",
   "nbconvert_exporter": "python",
   "pygments_lexer": "ipython3",
   "version": "3.12.6"
  }
 },
 "nbformat": 4,
 "nbformat_minor": 5
}
